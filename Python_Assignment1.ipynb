{
  "nbformat": 4,
  "nbformat_minor": 0,
  "metadata": {
    "colab": {
      "name": "Python Assignment1.ipynb",
      "provenance": []
    },
    "kernelspec": {
      "name": "python3",
      "display_name": "Python 3"
    },
    "language_info": {
      "name": "python"
    }
  },
  "cells": [
    {
      "cell_type": "markdown",
      "source": [
        "# **Set** **A**"
      ],
      "metadata": {
        "id": "b9y-a9zhN14U"
      }
    },
    {
      "cell_type": "code",
      "execution_count": 5,
      "metadata": {
        "colab": {
          "base_uri": "https://localhost:8080/"
        },
        "id": "aRk1gmAjMzWG",
        "outputId": "6fd48dcf-4360-4acc-ad68-1bd926d3903b"
      },
      "outputs": [
        {
          "output_type": "stream",
          "name": "stdout",
          "text": [
            "Enter length of first side: 5.6\n",
            "Enter length of second side: 6.7\n",
            "Enter length of third side: 7.6\n",
            "The area of the triangle is 18.18\n"
          ]
        }
      ],
      "source": [
        "#1. Python Program to Calculate the Area of a Triangle \n",
        "s1 = float(input('Enter length of first side: '))  \n",
        "s2 = float(input('Enter length of second side: '))  \n",
        "s3 = float(input('Enter length of third side: ')) \n",
        "s = (s1 + s2 + s3) / 2 \n",
        "area = (s*(s-s1)*(s-s2)*(s-s3)) ** 0.5  \n",
        "print('The area of the triangle is %0.2f' %area)"
      ]
    },
    {
      "cell_type": "code",
      "source": [
        "#2. Python Program to Swap Two Variables \n",
        "a = float(input('Enter value of X: ')) \n",
        "b = float(input('Enter value of Y: ')) \n",
        "temp = a\n",
        "a = b\n",
        "b = temp\n",
        "\n",
        "print(\"Value of x:\", a)\n",
        "print(\"Value of y:\", b)"
      ],
      "metadata": {
        "colab": {
          "base_uri": "https://localhost:8080/"
        },
        "id": "DSupcIlyNfMT",
        "outputId": "b5f50f24-f615-4db5-fa93-7f16c8da6dc0"
      },
      "execution_count": 6,
      "outputs": [
        {
          "output_type": "stream",
          "name": "stdout",
          "text": [
            "Enter value of X: 4\n",
            "Enter value of Y: 6\n",
            "Value of x: 6.0\n",
            "Value of y: 4.0\n"
          ]
        }
      ]
    },
    {
      "cell_type": "code",
      "source": [
        "#3. Python Program to Generate a Random Number \n",
        "import random  \n",
        "n = random.randint(0,40)  \n",
        "print(n) "
      ],
      "metadata": {
        "colab": {
          "base_uri": "https://localhost:8080/"
        },
        "id": "80LKSqr0Nqub",
        "outputId": "15a758c1-24eb-42b3-8325-96b278d30301"
      },
      "execution_count": 7,
      "outputs": [
        {
          "output_type": "stream",
          "name": "stdout",
          "text": [
            "22\n"
          ]
        }
      ]
    },
    {
      "cell_type": "markdown",
      "source": [
        "#**Set B**"
      ],
      "metadata": {
        "id": "1444V-GxOFDj"
      }
    },
    {
      "cell_type": "code",
      "source": [
        "#1. Write a Python Program to Check if a Number is Positive, Negative or Zero \n",
        "num = float(input(\"Enter a number: \"))\n",
        "if num >= 0:\n",
        "   if num == 0:\n",
        "       print(\"Zero\")\n",
        "   else:\n",
        "       print(\"Positive number\")\n",
        "else:\n",
        "   print(\"Negative number\")"
      ],
      "metadata": {
        "colab": {
          "base_uri": "https://localhost:8080/"
        },
        "id": "y7UsaxlgNxhL",
        "outputId": "bbea5e41-8fd1-422c-89ca-bcb5f17905fd"
      },
      "execution_count": 15,
      "outputs": [
        {
          "output_type": "stream",
          "name": "stdout",
          "text": [
            "Enter a number: 34\n",
            "Positive number\n"
          ]
        }
      ]
    },
    {
      "cell_type": "code",
      "source": [
        "#2.Write a Python Program to Check if a Number is Odd or Even \n",
        "\n",
        "num = int(input(\"Enter a number: \"))\n",
        "if (num % 2) == 0:\n",
        "   print(\"{0} is Even\".format(num))\n",
        "else:\n",
        "   print(\"{0} is Odd\".format(num))"
      ],
      "metadata": {
        "colab": {
          "base_uri": "https://localhost:8080/"
        },
        "id": "Z-3PKSzOOd07",
        "outputId": "a5ba64cb-8dc0-4146-ff8c-bd9b4515bd44"
      },
      "execution_count": 16,
      "outputs": [
        {
          "output_type": "stream",
          "name": "stdout",
          "text": [
            "Enter a number: 23\n",
            "23 is Odd\n"
          ]
        }
      ]
    },
    {
      "cell_type": "code",
      "source": [
        "#3.Write a Python Program to Check Prime Number \n",
        "num = int(input(\"Enter a number: \"))\n",
        "flag = False\n",
        "if num > 1:\n",
        "    for i in range(2, num):\n",
        "        if (num % i) == 0:\n",
        "            flag = True       \n",
        "            break\n",
        "if flag:\n",
        " print(num, \"is not a prime number\")\n",
        "else:\n",
        " print(num, \"is a prime number\")"
      ],
      "metadata": {
        "colab": {
          "base_uri": "https://localhost:8080/"
        },
        "id": "pCBoqqUIOi3i",
        "outputId": "41391f80-2d85-44f6-c2d9-79aac6ffe400"
      },
      "execution_count": 17,
      "outputs": [
        {
          "output_type": "stream",
          "name": "stdout",
          "text": [
            "Enter a number: 2342342\n",
            "2342342 is not a prime number\n"
          ]
        }
      ]
    },
    {
      "cell_type": "code",
      "source": [
        "#4.Write a Python Program to Check Armstrong Number \n",
        "num = int(input(\"Enter a number: \"))\n",
        "sum = 0\n",
        "temp = num\n",
        "while temp > 0:\n",
        "   digit = temp % 10\n",
        "   sum += digit ** 3\n",
        "   temp //= 10\n",
        "if num == sum:\n",
        "   print(num,\"is an Armstrong number\")\n",
        "else:\n",
        "   print(num,\"is not an Armstrong number\")"
      ],
      "metadata": {
        "colab": {
          "base_uri": "https://localhost:8080/"
        },
        "id": "Aqz_zGxHOnAL",
        "outputId": "2a25e194-7cee-4743-8401-d9d23e21b20e"
      },
      "execution_count": 18,
      "outputs": [
        {
          "output_type": "stream",
          "name": "stdout",
          "text": [
            "Enter a number: 23\n",
            "23 is not an Armstrong number\n"
          ]
        }
      ]
    },
    {
      "cell_type": "code",
      "source": [
        "#5.Write a Python Program to Find the Factorial of a Number \n",
        "num = int(input(\"Enter a number: \"))\n",
        "\n",
        "factorial = 1\n",
        "if num < 0:\n",
        "   print(\"Sorry, factorial does not exist for negative numbers\")\n",
        "elif num == 0:\n",
        "   print(\"The factorial of 0 is 1\")\n",
        "else:\n",
        "   for i in range(1,num + 1):\n",
        "       factorial = factorial*i\n",
        "   print(\"The factorial of\",num,\"is\",factorial)"
      ],
      "metadata": {
        "colab": {
          "base_uri": "https://localhost:8080/"
        },
        "id": "Z4Q8A9BIOqIN",
        "outputId": "202b8dfe-b237-49ab-9f93-ce8eb61ba6f0"
      },
      "execution_count": 19,
      "outputs": [
        {
          "output_type": "stream",
          "name": "stdout",
          "text": [
            "Enter a number: 6\n",
            "The factorial of 6 is 720\n"
          ]
        }
      ]
    },
    {
      "cell_type": "markdown",
      "source": [
        "#**Problems For Practice**"
      ],
      "metadata": {
        "id": "IRIsaGSaOxAM"
      }
    },
    {
      "cell_type": "code",
      "source": [
        "#1. Python Program to Convert Kilometers to Miles \n",
        "kilometers = float(input(\"Enter value in kilometers: \"))\n",
        "conv_fac = 0.621371\n",
        "miles = kilometers * conv_fac\n",
        "print('%0.2f kilometers is equal to %0.2f miles' %(kilometers,miles))"
      ],
      "metadata": {
        "colab": {
          "base_uri": "https://localhost:8080/"
        },
        "id": "CAcQjhlZOu7i",
        "outputId": "9db17606-9ec2-4815-ea1e-0c2698575773"
      },
      "execution_count": 20,
      "outputs": [
        {
          "output_type": "stream",
          "name": "stdout",
          "text": [
            "Enter value in kilometers: 33\n",
            "33.00 kilometers is equal to 20.51 miles\n"
          ]
        }
      ]
    },
    {
      "cell_type": "code",
      "source": [
        "#2.Python Program to Convert Celsius To Fahrenheit \n",
        "celsius = float(input(\"Enter value in celsius: \"))\n",
        "fahrenheit = (celsius * 1.8) + 32\n",
        "print('%0.1f degree Celsius is equal to %0.1f degree Fahrenheit' %(celsius,fahrenheit))"
      ],
      "metadata": {
        "colab": {
          "base_uri": "https://localhost:8080/"
        },
        "id": "gZ7yRa7kPGnL",
        "outputId": "00faf463-05a3-4076-a506-dd2383c1f99e"
      },
      "execution_count": 21,
      "outputs": [
        {
          "output_type": "stream",
          "name": "stdout",
          "text": [
            "Enter value in celsius: 49\n",
            "49.0 degree Celsius is equal to 120.2 degree Fahrenheit\n"
          ]
        }
      ]
    },
    {
      "cell_type": "code",
      "source": [
        "#3.Write a Python Program to Check Leap Year \n",
        "year = int(input(\"Enter a year: \"))\n",
        "if (year % 400 == 0) and (year % 100 == 0):\n",
        "    print(\"{0} is a leap year\".format(year))\n",
        "elif (year % 4 ==0) and (year % 100 != 0):\n",
        "    print(\"{0} is a leap year\".format(year))\n",
        "else:\n",
        "    print(\"{0} is not a leap year\".format(year))"
      ],
      "metadata": {
        "colab": {
          "base_uri": "https://localhost:8080/"
        },
        "id": "ILXqFolEPJWb",
        "outputId": "06c4bbcc-6b19-4664-ea5f-c4021b55a466"
      },
      "execution_count": 22,
      "outputs": [
        {
          "output_type": "stream",
          "name": "stdout",
          "text": [
            "Enter a year: 2022\n",
            "2022 is not a leap year\n"
          ]
        }
      ]
    },
    {
      "cell_type": "code",
      "source": [
        "#4.Write a Python Program to Print all Prime Numbers in an Interval \n",
        "lower = int(input(\"Enter the lower number:\"))\n",
        "upper = int(input(\"Enter the upper number: \"))\n",
        "print(\"Prime numbers between\", lower, \"and\", upper, \"are:\")\n",
        "for num in range(lower, upper + 1):\n",
        "     if num > 1:\n",
        "       for i in range(2, num):\n",
        "           if (num % i) == 0:\n",
        "               break\n",
        "       else:\n",
        "           print(num)"
      ],
      "metadata": {
        "colab": {
          "base_uri": "https://localhost:8080/"
        },
        "id": "F5vnSh9_PNsb",
        "outputId": "9eb01b2b-4fea-400e-84c1-505ddfd9e629"
      },
      "execution_count": 23,
      "outputs": [
        {
          "output_type": "stream",
          "name": "stdout",
          "text": [
            "Enter the lower number:45\n",
            "Enter the upper number: 90\n",
            "Prime numbers between 45 and 90 are:\n",
            "47\n",
            "53\n",
            "59\n",
            "61\n",
            "67\n",
            "71\n",
            "73\n",
            "79\n",
            "83\n",
            "89\n"
          ]
        }
      ]
    },
    {
      "cell_type": "code",
      "source": [
        "#5.Write a Python Program to Print the Fibonacci sequence \n",
        "n_terms = int(input (\"How many terms the user wants to print? \"))  \n",
        "n_1 = 0  \n",
        "n_2 = 1  \n",
        "count = 0  \n",
        "if n_terms <= 0:  \n",
        "    print (\"Please enter a positive integer, the given number is not valid\")  \n",
        "elif n_terms == 1:  \n",
        "    print (\"The Fibonacci sequence of the numbers up to\", n_terms, \": \")  \n",
        "    print(n_1)  \n",
        "else:  \n",
        "    print (\"The fibonacci sequence of the numbers is:\")  \n",
        "    while count < n_terms:  \n",
        "        print(n_1)  \n",
        "        nth = n_1 + n_2  \n",
        "        n_1 = n_2  \n",
        "        n_2 = nth  \n",
        "        count += 1  "
      ],
      "metadata": {
        "colab": {
          "base_uri": "https://localhost:8080/"
        },
        "id": "ygWjmrjNPYLr",
        "outputId": "77196dff-14da-439b-d352-069d0e9d6ae7"
      },
      "execution_count": 24,
      "outputs": [
        {
          "output_type": "stream",
          "name": "stdout",
          "text": [
            "How many terms the user wants to print? 3\n",
            "The fibonacci sequence of the numbers is:\n",
            "0\n",
            "1\n",
            "1\n"
          ]
        }
      ]
    },
    {
      "cell_type": "code",
      "source": [
        "#6.Write a Python Program to Find Armstrong Number in an Interval \n",
        "lower = int(input(\"Enter the lower number:\"))\n",
        "upper = int(input(\"Enter the upper number:\"))\n",
        "count = 0\n",
        "\n",
        "for num in range(lower, upper + 1):\n",
        "\n",
        "   # order of number\n",
        "   order = len(str(num))\n",
        "    \n",
        "   # initialize sum\n",
        "   sum = 0\n",
        "\n",
        "   temp = num\n",
        "   while temp > 0:\n",
        "       digit = temp % 10\n",
        "       sum += digit ** order\n",
        "       temp //= 10\n",
        "\n",
        "   if num == sum:\n",
        "       print(num)\n",
        "       count =+1\n",
        "\n",
        "if count == 0:\n",
        "  print(\"No Armstrong numbers between the range.\")"
      ],
      "metadata": {
        "colab": {
          "base_uri": "https://localhost:8080/"
        },
        "id": "_vO0dPccPa-W",
        "outputId": "bbaad5a2-8fbe-468b-d8bb-bd4250584c11"
      },
      "execution_count": 30,
      "outputs": [
        {
          "output_type": "stream",
          "name": "stdout",
          "text": [
            "Enter the lower number:100\n",
            "Enter the upper number:200\n",
            "153\n"
          ]
        }
      ]
    },
    {
      "cell_type": "code",
      "source": [
        "#7.Write a Python Program to Find the Sum of Natural Numbers \n",
        "num = int(input(\"Enter the number:\"))\n",
        "\n",
        "if num < 0:\n",
        "   print(\"Enter a positive number\")\n",
        "else:\n",
        "   sum = 0\n",
        "   # use while loop to iterate until zero\n",
        "   while(num > 0):\n",
        "       sum += num\n",
        "       num -= 1\n",
        "   print(\"The sum is\", sum)"
      ],
      "metadata": {
        "colab": {
          "base_uri": "https://localhost:8080/"
        },
        "id": "KN791fDLQWGF",
        "outputId": "f414ac17-bad1-4e1f-f2e0-233c0ef69a1f"
      },
      "execution_count": 31,
      "outputs": [
        {
          "output_type": "stream",
          "name": "stdout",
          "text": [
            "Enter the number:56\n",
            "The sum is 1596\n"
          ]
        }
      ]
    }
  ]
}