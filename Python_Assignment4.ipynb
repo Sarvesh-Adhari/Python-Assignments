{
  "nbformat": 4,
  "nbformat_minor": 0,
  "metadata": {
    "colab": {
      "name": "Python_Assignment4.ipynb",
      "provenance": []
    },
    "kernelspec": {
      "name": "python3",
      "display_name": "Python 3"
    },
    "language_info": {
      "name": "python"
    }
  },
  "cells": [
    {
      "cell_type": "markdown",
      "source": [
        "#**Set A**"
      ],
      "metadata": {
        "id": "z_KRJyQTfZmC"
      }
    },
    {
      "cell_type": "code",
      "execution_count": 2,
      "metadata": {
        "colab": {
          "base_uri": "https://localhost:8080/"
        },
        "id": "zwOe1-j5fVpb",
        "outputId": "3162c8d7-170a-4beb-fb91-dc652c813111"
      },
      "outputs": [
        {
          "output_type": "stream",
          "name": "stdout",
          "text": [
            "Hello\n",
            "This Is A Blank Sample File\n"
          ]
        }
      ],
      "source": [
        "#1. Write a Python program to read an entire text file.\n",
        "def file_read(sample):\n",
        "    txt = open(sample)\n",
        "    print(txt.read())\n",
        "\n",
        "file_read(\"sample.txt\")"
      ]
    },
    {
      "cell_type": "code",
      "source": [
        "#2. Write a Python program to compute the number of characters, words and lines in a file.\n",
        "file = open(\"sample.txt\",\"r\")\n",
        "\n",
        "no_of_lines = 0\n",
        "no_of_words = 0\n",
        "no_of_char = 0\n",
        "\n",
        "for line in file:\n",
        "    line = line.strip(\"\\n\")   \n",
        "    words = line.split()\n",
        "\n",
        "    no_of_lines += 1\n",
        "    no_of_words += len(words)\n",
        "    no_of_char += len(line)\n",
        "\n",
        "file.close()\n",
        "print(\"lines:\", no_of_lines, \"words:\", no_of_words, \"char:\", no_of_char)"
      ],
      "metadata": {
        "colab": {
          "base_uri": "https://localhost:8080/"
        },
        "id": "Eeb-6Gnjft1P",
        "outputId": "2363649a-21ba-42fa-9c5f-fa3dc0b4b343"
      },
      "execution_count": 3,
      "outputs": [
        {
          "output_type": "stream",
          "name": "stdout",
          "text": [
            "lines: 2 words: 7 char: 32\n"
          ]
        }
      ]
    },
    {
      "cell_type": "code",
      "source": [
        "#3. Write a Python script to print the current date in following format “Sun May 29 02:26:23\n",
        "#IST 2017”\n",
        "import time\n",
        "ltime = time.localtime()\n",
        "print(time.strftime(\"%a %b %d %H:%M:%S %Z %Y\", ltime))"
      ],
      "metadata": {
        "colab": {
          "base_uri": "https://localhost:8080/"
        },
        "id": "OT41LLrMfxNw",
        "outputId": "2c2b6db1-279e-4c5b-986b-37ec0c28624e"
      },
      "execution_count": 4,
      "outputs": [
        {
          "output_type": "stream",
          "name": "stdout",
          "text": [
            "Wed Feb 23 12:12:23 UTC 2022\n"
          ]
        }
      ]
    },
    {
      "cell_type": "markdown",
      "source": [
        "#**Set B**"
      ],
      "metadata": {
        "id": "5MQXN6Aef0GR"
      }
    },
    {
      "cell_type": "code",
      "source": [
        "#1. Write a Python program to append text to a file and display the text.\n",
        "testfile = open(\"sample.txt\", \"a\")\n",
        "\n",
        "testfile.write(\"\\nWelcome to python practical\")\n",
        "testfile.close()\n",
        "\n",
        "appended_file = open(\"sample.txt\", \"r\")\n",
        "print(appended_file.read())"
      ],
      "metadata": {
        "colab": {
          "base_uri": "https://localhost:8080/"
        },
        "id": "Tx6_Iu2zfzc_",
        "outputId": "7285ab07-96be-4762-d32c-3e638d2b9c76"
      },
      "execution_count": 7,
      "outputs": [
        {
          "output_type": "stream",
          "name": "stdout",
          "text": [
            "Hello\n",
            "This Is A Blank Sample File\n",
            "Welcome to python practical\n"
          ]
        }
      ]
    },
    {
      "cell_type": "code",
      "source": [
        "#2. Write a Python program to print each line of a file in reverse order.\n",
        "f1 = open(\"sample.txt\", \"w\")\n",
        "\n",
        "with open(\"sample.txt\", \"r\") as myfile:\n",
        "\tdata = myfile.read()\n",
        "data_1 = data[::-1]\n",
        "f1.write(data_1)\n",
        "f1.close()\n",
        "print(\"done\")"
      ],
      "metadata": {
        "colab": {
          "base_uri": "https://localhost:8080/"
        },
        "id": "6HH4MliHgBT3",
        "outputId": "62519255-63f4-4844-db1c-7abbe6b0bd76"
      },
      "execution_count": 8,
      "outputs": [
        {
          "output_type": "stream",
          "name": "stdout",
          "text": [
            "done\n"
          ]
        }
      ]
    },
    {
      "cell_type": "code",
      "source": [
        "#3. Write a Python program to print date, time for today and now\n",
        "import datetime\n",
        "\n",
        "now = datetime.datetime.now()\n",
        "print(\"Current date and time : \")\n",
        "print(now.strftime(\"%d-%m-%Y %H:%M:%S\"))"
      ],
      "metadata": {
        "colab": {
          "base_uri": "https://localhost:8080/"
        },
        "id": "2iCzLWWBgEgv",
        "outputId": "0f895d98-4653-4b68-902b-1b6a3c845ca4"
      },
      "execution_count": 9,
      "outputs": [
        {
          "output_type": "stream",
          "name": "stdout",
          "text": [
            "Current date and time : \n",
            "23-02-2022 12:13:43\n"
          ]
        }
      ]
    },
    {
      "cell_type": "markdown",
      "source": [
        "#**Programs For Practice**"
      ],
      "metadata": {
        "id": "1jfMx0bJgH4A"
      }
    },
    {
      "cell_type": "code",
      "source": [
        "#1. Write a Python program to read an entire text file.\n",
        "def file_read(fname):\n",
        "        txt = open(fname)\n",
        "        print(txt.read())\n",
        "\n",
        "file_read('sample.txt')\n",
        "print(\"done\")"
      ],
      "metadata": {
        "colab": {
          "base_uri": "https://localhost:8080/"
        },
        "id": "Tt31a5ndgGxX",
        "outputId": "e61483f6-bae0-4508-86eb-8f8c7eb6195c"
      },
      "execution_count": 12,
      "outputs": [
        {
          "output_type": "stream",
          "name": "stdout",
          "text": [
            "Hello\n",
            "This is a blank sample file\n",
            "done\n"
          ]
        }
      ]
    },
    {
      "cell_type": "code",
      "source": [
        "#2. Write a Python program to read first n lines of a file.\n",
        "def file_read_from_head(fname, nlines):\n",
        "        from itertools import islice\n",
        "        with open(fname) as f:\n",
        "                for line in islice(f, nlines):\n",
        "                        print(line)\n",
        "file_read_from_head('sample.txt',2)\n",
        "print(\"done\")"
      ],
      "metadata": {
        "colab": {
          "base_uri": "https://localhost:8080/"
        },
        "id": "jlenWmQ0gQ36",
        "outputId": "89c4c52d-912a-4625-8c65-d7f84d597ebd"
      },
      "execution_count": 13,
      "outputs": [
        {
          "output_type": "stream",
          "name": "stdout",
          "text": [
            "Hello\n",
            "\n",
            "This is a blank sample file\n",
            "done\n"
          ]
        }
      ]
    },
    {
      "cell_type": "code",
      "source": [
        "#3. Write a Python program to append text to a file and display the text.\n",
        "def file_read(fname):\n",
        "        from itertools import islice\n",
        "        with open(fname, \"w\") as myfile:\n",
        "                myfile.write(\"Python practical\\n\")\n",
        "                myfile.write(\"Assignment 4\")\n",
        "        txt = open(fname)\n",
        "        print(txt.read())\n",
        "file_read('sample1.txt')"
      ],
      "metadata": {
        "colab": {
          "base_uri": "https://localhost:8080/"
        },
        "id": "IRJ6nSyRgUlX",
        "outputId": "9d43e022-1eed-4764-87a5-6abbc649e0d0"
      },
      "execution_count": 14,
      "outputs": [
        {
          "output_type": "stream",
          "name": "stdout",
          "text": [
            "Python practical\n",
            "Assignment 4\n"
          ]
        }
      ]
    },
    {
      "cell_type": "code",
      "source": [
        "#4. Write a Python program to read last n lines of a file.\n",
        "def LastNlines(fname, N):\n",
        "    with open(fname) as file:\n",
        "        for line in (file.readlines() [-N:]):\n",
        "            print(line, end ='')\n",
        "if __name__ == '__main__':\n",
        "    fname = 'sample1.txt'\n",
        "    N = 3\n",
        "    try:\n",
        "        LastNlines(fname, N)\n",
        "    except:\n",
        "        print('File not found')"
      ],
      "metadata": {
        "colab": {
          "base_uri": "https://localhost:8080/"
        },
        "id": "kTwTKB8dgi7w",
        "outputId": "b511a6ea-b49f-4cca-d042-370bda3a4c87"
      },
      "execution_count": 15,
      "outputs": [
        {
          "output_type": "stream",
          "name": "stdout",
          "text": [
            "Python practical\n",
            "Assignment 4"
          ]
        }
      ]
    },
    {
      "cell_type": "code",
      "source": [
        "#5. Write a Python program to read a file line by line and store it into a list.\n",
        "def file_read(fname):\n",
        "        with open(fname) as f:\n",
        "                content_list = f.readlines()\n",
        "                print(content_list)\n",
        "\n",
        "file_read('sample1.txt')\n"
      ],
      "metadata": {
        "colab": {
          "base_uri": "https://localhost:8080/"
        },
        "id": "0wl-EmKIgv5g",
        "outputId": "ea06a9d8-2e89-43b4-a24b-a495b4f65d65"
      },
      "execution_count": 16,
      "outputs": [
        {
          "output_type": "stream",
          "name": "stdout",
          "text": [
            "['Python practical\\n', 'Assignment 4']\n"
          ]
        }
      ]
    },
    {
      "cell_type": "code",
      "source": [
        "#6. Write a Python program to read a file line by line store it into a variable.\n",
        "def file_read(fname):\n",
        "        with open (fname, \"r\") as myfile:\n",
        "                data=myfile.readlines()\n",
        "                print(data)\n",
        "file_read('sample1.txt')"
      ],
      "metadata": {
        "colab": {
          "base_uri": "https://localhost:8080/"
        },
        "id": "Dkq-aoJpgyE4",
        "outputId": "80d0e413-1ba4-42b6-8340-ee2822208cfe"
      },
      "execution_count": 17,
      "outputs": [
        {
          "output_type": "stream",
          "name": "stdout",
          "text": [
            "['Python practical\\n', 'Assignment 4']\n"
          ]
        }
      ]
    },
    {
      "cell_type": "code",
      "source": [
        "#7. Write a Python program to read a file line by line store it into an array.\n",
        "def file_read(fname):\n",
        "        content_array = []\n",
        "        with open(fname) as f:\n",
        "                for line in f:\n",
        "                        content_array.append(line)\n",
        "                print(content_array)\n",
        "\n",
        "file_read('sample1.txt')"
      ],
      "metadata": {
        "colab": {
          "base_uri": "https://localhost:8080/"
        },
        "id": "0B6NAFpqgztg",
        "outputId": "7b6e0e0c-32c1-458b-9b3a-a5d495388c5a"
      },
      "execution_count": 18,
      "outputs": [
        {
          "output_type": "stream",
          "name": "stdout",
          "text": [
            "['Python practical\\n', 'Assignment 4']\n"
          ]
        }
      ]
    },
    {
      "cell_type": "code",
      "source": [
        "#8. Write a python program to find the longest words.\n",
        "def longest_word(filename):\n",
        "    with open(filename, 'r') as infile:\n",
        "              words = infile.read().split()\n",
        "    max_len = len(max(words, key=len))\n",
        "    return [word for word in words if len(word) == max_len]\n",
        "\n",
        "print(longest_word('sample1.txt'))"
      ],
      "metadata": {
        "colab": {
          "base_uri": "https://localhost:8080/"
        },
        "id": "ylEXLyvqg1Wi",
        "outputId": "0f11c174-4b9f-4f0b-d39a-569fed861374"
      },
      "execution_count": 19,
      "outputs": [
        {
          "output_type": "stream",
          "name": "stdout",
          "text": [
            "['Assignment']\n"
          ]
        }
      ]
    },
    {
      "cell_type": "code",
      "source": [
        "#9. Write a Python program to count the number of lines in a text file.\n",
        "def file_lengthy(fname):\n",
        "        with open(fname) as f:\n",
        "                for i, l in enumerate(f):\n",
        "                        pass\n",
        "        return i + 1\n",
        "print(\"Number of lines in the file: \",file_lengthy(\"sample1.txt\"))"
      ],
      "metadata": {
        "colab": {
          "base_uri": "https://localhost:8080/"
        },
        "id": "Ch0YcLv3g3FA",
        "outputId": "3c97e529-0725-4098-9ed9-7e9decde1155"
      },
      "execution_count": 20,
      "outputs": [
        {
          "output_type": "stream",
          "name": "stdout",
          "text": [
            "Number of lines in the file:  2\n"
          ]
        }
      ]
    },
    {
      "cell_type": "code",
      "source": [
        "#10. Write a Python program to count the frequency of words in a file.\n",
        "from collections import Counter\n",
        "def word_count(fname):\n",
        "        with open(fname) as f:\n",
        "                return Counter(f.read().split())\n",
        "\n",
        "print(\"Number of words in the file :\",word_count(\"sample1.txt\"))"
      ],
      "metadata": {
        "colab": {
          "base_uri": "https://localhost:8080/"
        },
        "id": "xPpohv00g5JI",
        "outputId": "c314ef81-34c7-4c4a-d0fc-edc937c8d4a2"
      },
      "execution_count": 21,
      "outputs": [
        {
          "output_type": "stream",
          "name": "stdout",
          "text": [
            "Number of words in the file : Counter({'Python': 1, 'practical': 1, 'Assignment': 1, '4': 1})\n"
          ]
        }
      ]
    },
    {
      "cell_type": "code",
      "source": [
        "#11. Write a Python program to get the file size of a plain file.\n",
        "def file_size(fname):\n",
        "        import os\n",
        "        statinfo = os.stat(fname)\n",
        "        return statinfo.st_size\n",
        "\n",
        "print(\"File size in bytes of a plain file: \",file_size(\"sample1.txt\"))"
      ],
      "metadata": {
        "colab": {
          "base_uri": "https://localhost:8080/"
        },
        "id": "hkieMZwAg7Dp",
        "outputId": "5cd403ae-df7f-401d-c615-fd4f23ef5c9b"
      },
      "execution_count": 22,
      "outputs": [
        {
          "output_type": "stream",
          "name": "stdout",
          "text": [
            "File size in bytes of a plain file:  29\n"
          ]
        }
      ]
    },
    {
      "cell_type": "code",
      "source": [
        "#12. Write a Python program to write a list to a file.\n",
        "color = ['Red', 'Green', 'White', 'Black', 'Pink', 'Yellow']\n",
        "with open('abc.txt', \"w\") as myfile:\n",
        "        for c in color:\n",
        "                myfile.write(\"%s\\n\" % c)\n",
        "\n",
        "content = open('abc.txt')\n",
        "print(content.read())"
      ],
      "metadata": {
        "colab": {
          "base_uri": "https://localhost:8080/"
        },
        "id": "YEuWbBnfg9A7",
        "outputId": "6e002211-e945-4dc1-8e8a-42ec78743415"
      },
      "execution_count": 23,
      "outputs": [
        {
          "output_type": "stream",
          "name": "stdout",
          "text": [
            "Red\n",
            "Green\n",
            "White\n",
            "Black\n",
            "Pink\n",
            "Yellow\n",
            "\n"
          ]
        }
      ]
    },
    {
      "cell_type": "code",
      "source": [
        "#13. Write a Python program to copy the contents of a file to another file .\n",
        "color = ['Red', 'Green', 'White', 'Black', 'Pink', 'Yellow','Blue']\n",
        "with open('abc.txt', \"w\") as myfile:\n",
        "        for c in color:\n",
        "                myfile.write(\"%s\\n\" % c)\n",
        "\n",
        "content = open('abc.txt')\n",
        "print(content.read())"
      ],
      "metadata": {
        "colab": {
          "base_uri": "https://localhost:8080/"
        },
        "id": "S4P49lIEg_A5",
        "outputId": "504fd3f0-743e-42ba-dd3e-40afecdcc04f"
      },
      "execution_count": 24,
      "outputs": [
        {
          "output_type": "stream",
          "name": "stdout",
          "text": [
            "Red\n",
            "Green\n",
            "White\n",
            "Black\n",
            "Pink\n",
            "Yellow\n",
            "Blue\n",
            "\n"
          ]
        }
      ]
    },
    {
      "cell_type": "code",
      "source": [
        "#14. Write a Python program to combine each line from first file with the corresponding line in second file\n",
        "with open('abc.txt') as fh1, open('sample1.txt') as fh2:\n",
        "    for line1, line2 in zip(fh1, fh2):\n",
        "        # line1 from abc.txt, line2 from test.txtg\n",
        "        print(line1+line2)"
      ],
      "metadata": {
        "colab": {
          "base_uri": "https://localhost:8080/"
        },
        "id": "TOXZWnvQhAyr",
        "outputId": "38aa07d8-c710-4d39-8aa9-b88b44767ca4"
      },
      "execution_count": 25,
      "outputs": [
        {
          "output_type": "stream",
          "name": "stdout",
          "text": [
            "Red\n",
            "Python practical\n",
            "\n",
            "Green\n",
            "Assignment 4\n"
          ]
        }
      ]
    },
    {
      "cell_type": "code",
      "source": [
        "#15. Write a Python program to remove newline characters from a file\n",
        "import random\n",
        "def random_line(fname):\n",
        "    lines = open(fname).read().splitlines()\n",
        "    return random.choice(lines)\n",
        "print(random_line('sample1.txt'))"
      ],
      "metadata": {
        "colab": {
          "base_uri": "https://localhost:8080/"
        },
        "id": "xkHZsc3khCko",
        "outputId": "9f154e2b-947e-490c-e411-db8da59deae3"
      },
      "execution_count": 26,
      "outputs": [
        {
          "output_type": "stream",
          "name": "stdout",
          "text": [
            "Python practical\n"
          ]
        }
      ]
    },
    {
      "cell_type": "code",
      "source": [
        "#16. Write a Python program that takes a text file as input and returns the number of words of a given text file.\n",
        "#Note: Some words can be separated by a comma with no space.\n",
        "import random\n",
        "def random_line(fname):\n",
        "    lines = open(fname).read().splitlines()\n",
        "    return random.choice(lines)\n",
        "print(random_line('sample1.txt'))"
      ],
      "metadata": {
        "colab": {
          "base_uri": "https://localhost:8080/"
        },
        "id": "ceZ16EKzhEk4",
        "outputId": "05ae907c-6dc4-41c3-a59b-4dc9651cbc2a"
      },
      "execution_count": 27,
      "outputs": [
        {
          "output_type": "stream",
          "name": "stdout",
          "text": [
            "Python practical\n"
          ]
        }
      ]
    },
    {
      "cell_type": "code",
      "source": [
        "#17. Write a Python program to extract characters from various text files and puts them into a list.\n",
        "def remove_newlines(fname):\n",
        "    flist = open(fname).readlines()\n",
        "    return [s.rstrip('\\n') for s in flist]\n",
        "\n",
        "print(remove_newlines(\"sample1.txt\"))"
      ],
      "metadata": {
        "colab": {
          "base_uri": "https://localhost:8080/"
        },
        "id": "jsOinXSwhGbI",
        "outputId": "4deb5364-7f1f-4f33-8474-5c64ab863bb4"
      },
      "execution_count": 28,
      "outputs": [
        {
          "output_type": "stream",
          "name": "stdout",
          "text": [
            "['Python practical', 'Assignment 4']\n"
          ]
        }
      ]
    },
    {
      "cell_type": "code",
      "source": [
        "#18. Write a python program to get Current Time\n",
        "from datetime import *\n",
        "import pytz\n",
        "\n",
        "\n",
        "tz_INDIA = pytz.timezone('Asia/Kolkata')\n",
        "datetime_INDIA = datetime.now(tz_INDIA)\n",
        "print(\"INDIA time:\", datetime_INDIA.strftime(\"%H:%M:%S\"))"
      ],
      "metadata": {
        "colab": {
          "base_uri": "https://localhost:8080/"
        },
        "id": "-Z_9X-KXhH8Y",
        "outputId": "ef853231-c9c4-47f8-d869-c50804ea298b"
      },
      "execution_count": 29,
      "outputs": [
        {
          "output_type": "stream",
          "name": "stdout",
          "text": [
            "INDIA time: 17:48:16\n"
          ]
        }
      ]
    },
    {
      "cell_type": "code",
      "source": [
        "#19. Get Current Date and Time using Python\n",
        "import datetime\n",
        "current_time = datetime.datetime.now()\n",
        "print (\"Time now  : \", end = \"\")\n",
        "print (current_time)"
      ],
      "metadata": {
        "colab": {
          "base_uri": "https://localhost:8080/"
        },
        "id": "h4bigQrKhJZi",
        "outputId": "a3b96071-5f94-48b9-a417-8d3aca611736"
      },
      "execution_count": 30,
      "outputs": [
        {
          "output_type": "stream",
          "name": "stdout",
          "text": [
            "Time now  : 2022-02-23 12:18:23.311470\n"
          ]
        }
      ]
    },
    {
      "cell_type": "code",
      "source": [
        "#20. Write a python | Find yesterday’s, today’s and tomorrow’s date\n",
        "from datetime import datetime, timedelta\n",
        "presentday = datetime.now() \n",
        "yesterday = presentday - timedelta(1)\n",
        "tomorrow = presentday + timedelta(1)\n",
        "print(\"Yesterday = \", yesterday.strftime('%d-%m-%Y'))\n",
        "print(\"Today = \", presentday.strftime('%d-%m-%Y'))\n",
        "print(\"Tomorrow = \", tomorrow.strftime('%d-%m-%Y'))"
      ],
      "metadata": {
        "colab": {
          "base_uri": "https://localhost:8080/"
        },
        "id": "67u2vvGYhLBh",
        "outputId": "9ed80e47-d0ed-43ac-d06b-ab4aae3c6191"
      },
      "execution_count": 31,
      "outputs": [
        {
          "output_type": "stream",
          "name": "stdout",
          "text": [
            "Yesterday =  22-02-2022\n",
            "Today =  23-02-2022\n",
            "Tomorrow =  24-02-2022\n"
          ]
        }
      ]
    },
    {
      "cell_type": "code",
      "source": [
        "#21. Write a python program to convert time from 12 hour to 24 hour format\n",
        "def convert24(str1):\n",
        "    if str1[-2:] == \"AM\" and str1[:2] == \"12\":\n",
        "        return \"00\" + str1[2:-2]\n",
        "    elif str1[-2:] == \"AM\":\n",
        "        return str1[:-2]\n",
        "    elif str1[-2:] == \"PM\" and str1[:2] == \"12\":\n",
        "        return str1[:-2]\n",
        "    else:\n",
        "        return str(int(str1[:2]) + 12) + str1[2:8]\n",
        "print(convert24(\"11:05:45 PM\"))"
      ],
      "metadata": {
        "colab": {
          "base_uri": "https://localhost:8080/"
        },
        "id": "AHdtSMlBhMmq",
        "outputId": "0b7281cc-b55c-44d1-b75d-a49764406f33"
      },
      "execution_count": 32,
      "outputs": [
        {
          "output_type": "stream",
          "name": "stdout",
          "text": [
            "23:05:45\n"
          ]
        }
      ]
    },
    {
      "cell_type": "code",
      "source": [
        "#22. Write a python program to find difference between current time and given time\n",
        "def difference(h1, m1, h2, m2):\n",
        "    t1 = h1 * 60 + m1\n",
        "    t2 = h2 * 60 + m2\n",
        "    if (t1 == t2):\n",
        "        print(\"Both are same times\")\n",
        "        return\n",
        "    else:\n",
        "        diff = t2-t1\n",
        "    h = (int(diff / 60)) % 24\n",
        "    m = diff % 60\n",
        "    print(h, \":\", m)\n",
        "if __name__ == \"__main__\":\n",
        "    difference(7, 20, 9, 45)\n",
        "    difference(15, 23, 15, 54)"
      ],
      "metadata": {
        "colab": {
          "base_uri": "https://localhost:8080/"
        },
        "id": "bHurBCrwhO6x",
        "outputId": "3c7a68d4-b707-4c57-f2da-ae6ff0872168"
      },
      "execution_count": 33,
      "outputs": [
        {
          "output_type": "stream",
          "name": "stdout",
          "text": [
            "2 : 25\n",
            "0 : 31\n"
          ]
        }
      ]
    },
    {
      "cell_type": "code",
      "source": [
        "#23. Write a python Program to Create a Lap Timer\n",
        "import time\n",
        "\n",
        "start_time=time.time()\n",
        "end_time=start_time\n",
        "lap_num=1\n",
        "\n",
        "print(\"Click on ENTER to count laps.\\nPress CTRL+C to stop\")\n",
        "\n",
        "try:\n",
        "   while True:\n",
        "\n",
        "      input()\n",
        "      time_laps=round((time.time() - end_time), 2)\n",
        "\n",
        "      tot_time=round((time.time() - start_time), 2)\n",
        "\n",
        "      print(\"Lap No. \"+str(lap_num))\n",
        "      print(\"Total Time: \"+str(tot_time))\n",
        "      print(\"Lap Time: \"+str(time_laps))\n",
        "\n",
        "      print(\"*\"*20)\n",
        "\n",
        "      end_time=time.time()\n",
        "      lap_num+=1\n",
        "\n",
        "except KeyboardInterrupt:\n",
        "   print(\"Exit!\")"
      ],
      "metadata": {
        "colab": {
          "base_uri": "https://localhost:8080/"
        },
        "id": "tOXggSddhQwA",
        "outputId": "b0f2fe1f-3366-4fb3-87eb-504f1c9e1135"
      },
      "execution_count": 35,
      "outputs": [
        {
          "output_type": "stream",
          "name": "stdout",
          "text": [
            "Click on ENTER to count laps.\n",
            "Press CTRL+C to stop\n",
            "\n",
            "Lap No. 1\n",
            "Total Time: 3.56\n",
            "Lap Time: 3.56\n",
            "********************\n",
            "Exit!\n"
          ]
        }
      ]
    },
    {
      "cell_type": "code",
      "source": [
        "#24.Convert date string to timestamp in Python\n",
        "import time\n",
        "import datetime\n",
        "\n",
        "\n",
        "string = \"20/01/2020\"\n",
        "\n",
        "element = datetime.datetime.strptime(string,\"%d/%m/%Y\")\n",
        "\n",
        "tuple = element.timetuple()\n",
        "timestamp = time.mktime(tuple)\n",
        "\n",
        "print(timestamp)"
      ],
      "metadata": {
        "colab": {
          "base_uri": "https://localhost:8080/"
        },
        "id": "ZAnSdl1khYnf",
        "outputId": "f48aefbf-f8d7-4200-bec8-e5f02bc83357"
      },
      "execution_count": 36,
      "outputs": [
        {
          "output_type": "stream",
          "name": "stdout",
          "text": [
            "1579478400.0\n"
          ]
        }
      ]
    },
    {
      "cell_type": "code",
      "source": [
        "#25. Find number of times every day occurs in a Year\n",
        "import datetime\n",
        "import calendar\n",
        "def day_occur_time(year):\n",
        "    days = [ \"Monday\", \"Tuesday\", \"Wednesday\",\"Thursday\", \"Friday\", \"Saturday\",\"Sunday\" ]\n",
        "    L = [52 for i in range(7)]\n",
        "    pos = -1\n",
        "    day = datetime.datetime(year, month = 1, day = 1).strftime(\"%A\")\n",
        "    for i in range(7):\n",
        "        if day == days[i]:\n",
        "            pos = i\n",
        "    if calendar.isleap(year):\n",
        "        L[pos] += 1\n",
        "        L[(pos+1)%7] += 1\n",
        "    else:\n",
        "        L[pos] += 1\n",
        "    for i in range(7):\n",
        "        print(days[i], L[i])\n",
        "year = 2022\n",
        "day_occur_time(year)"
      ],
      "metadata": {
        "colab": {
          "base_uri": "https://localhost:8080/"
        },
        "id": "F-4VKrvyhh9P",
        "outputId": "f476aa39-3874-43ab-c569-70eb043f2be9"
      },
      "execution_count": 37,
      "outputs": [
        {
          "output_type": "stream",
          "name": "stdout",
          "text": [
            "Monday 52\n",
            "Tuesday 52\n",
            "Wednesday 52\n",
            "Thursday 52\n",
            "Friday 52\n",
            "Saturday 53\n",
            "Sunday 52\n"
          ]
        }
      ]
    }
  ]
}