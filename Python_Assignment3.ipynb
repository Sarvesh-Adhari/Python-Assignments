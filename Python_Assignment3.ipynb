{
  "nbformat": 4,
  "nbformat_minor": 0,
  "metadata": {
    "colab": {
      "name": "Python_Assignment3.ipynb",
      "provenance": []
    },
    "kernelspec": {
      "name": "python3",
      "display_name": "Python 3"
    },
    "language_info": {
      "name": "python"
    }
  },
  "cells": [
    {
      "cell_type": "markdown",
      "source": [
        "#**Set A List**"
      ],
      "metadata": {
        "id": "HOEWJVnkbhBu"
      }
    },
    {
      "cell_type": "code",
      "execution_count": 1,
      "metadata": {
        "colab": {
          "base_uri": "https://localhost:8080/"
        },
        "id": "bVYtL_U1bc-a",
        "outputId": "c2a8e8f0-b7db-48b1-ed30-6850ca77cd33"
      },
      "outputs": [
        {
          "output_type": "stream",
          "name": "stdout",
          "text": [
            "Sum of all elements in given list: 57\n"
          ]
        }
      ],
      "source": [
        "#1 Write a Python program to sum all the items in a list.\n",
        "total = 0\n",
        "\n",
        "lis = [17, 9, 5, 9, 17]\n",
        "\n",
        "for item in range(0, len(lis)):\n",
        "\ttotal = total + lis[item]\n",
        "\n",
        "print(\"Sum of all elements in given list:\",total)"
      ]
    },
    {
      "cell_type": "code",
      "source": [
        "#2 Write a Python program to multiplies all the items in a list.\n",
        "def mult_list(lis1):\n",
        "\n",
        "    product = 1\n",
        "    for i in lis1:\n",
        "        product = product * i\n",
        "    return product\n",
        "\n",
        "\n",
        "list1 = [17, 9, 8, 1]\n",
        "print(list1)\n",
        "print(\"product: \", mult_list(list1))"
      ],
      "metadata": {
        "colab": {
          "base_uri": "https://localhost:8080/"
        },
        "id": "b0zJt-FGboT3",
        "outputId": "bd6cf8e4-cf4c-4873-95ff-116b039bdd0a"
      },
      "execution_count": 2,
      "outputs": [
        {
          "output_type": "stream",
          "name": "stdout",
          "text": [
            "[17, 9, 8, 1]\n",
            "product:  1224\n"
          ]
        }
      ]
    },
    {
      "cell_type": "code",
      "source": [
        "#3 Write a Python program to get a list, sorted in increasing order by the last element in each tuple \n",
        "#from a given list of non-empty tuples.\n",
        "def last(n):\n",
        "    return n[-1]\n",
        "\n",
        "def sort(tup):\n",
        "    return sorted(tup, key=last)\n",
        "\n",
        "a=[(2, 3), (1, 2), (2, 2)]\n",
        "print(\"Sorted:\")\n",
        "print(sort(a))"
      ],
      "metadata": {
        "colab": {
          "base_uri": "https://localhost:8080/"
        },
        "id": "OnT8nV-hbvL_",
        "outputId": "c015c658-eda5-49bf-adf1-f7dbb357c924"
      },
      "execution_count": 3,
      "outputs": [
        {
          "output_type": "stream",
          "name": "stdout",
          "text": [
            "Sorted:\n",
            "[(1, 2), (2, 2), (2, 3)]\n"
          ]
        }
      ]
    },
    {
      "cell_type": "markdown",
      "source": [
        "#**Set A Tuples**"
      ],
      "metadata": {
        "id": "xYMq8G_Rb6su"
      }
    },
    {
      "cell_type": "code",
      "source": [
        "#1 Write a Python program to create a tuple.\n",
        "x = (10, 20, 30, 40, 50)\n",
        "print(x)\n",
        "print(\"Datatype of y= \", type(x))"
      ],
      "metadata": {
        "colab": {
          "base_uri": "https://localhost:8080/"
        },
        "id": "0J5pxZHTb0w_",
        "outputId": "50bd71ab-431d-4b00-8379-a0899632c4f1"
      },
      "execution_count": 4,
      "outputs": [
        {
          "output_type": "stream",
          "name": "stdout",
          "text": [
            "(10, 20, 30, 40, 50)\n",
            "Datatype of y=  <class 'tuple'>\n"
          ]
        }
      ]
    },
    {
      "cell_type": "code",
      "source": [
        "#2) Write a Python program to create a tuple with different data types.\n",
        "t1 = (\"tuple\", False, \"3.2\", 17)\n",
        "print(t1)"
      ],
      "metadata": {
        "colab": {
          "base_uri": "https://localhost:8080/"
        },
        "id": "Uu6JCKeIcBh-",
        "outputId": "5528f7cd-2616-4669-939a-1b29aaed99fa"
      },
      "execution_count": 5,
      "outputs": [
        {
          "output_type": "stream",
          "name": "stdout",
          "text": [
            "('tuple', False, '3.2', 17)\n"
          ]
        }
      ]
    },
    {
      "cell_type": "code",
      "source": [
        "#3 Write a Python program to check whether an element exists within a tuple\n",
        "t11 = (\"p\", \"y\", \"t\", \"h\", \"o\", \"n\", \"p\", \"r\", \"o\",\"g\",\"r\",\"a\",\"m\",\"e\")\n",
        "print(\"p\" in t11)\n",
        "print(\"H\" in t11)\n",
        "print(5 in t11)"
      ],
      "metadata": {
        "colab": {
          "base_uri": "https://localhost:8080/"
        },
        "id": "XOWe5t8ecFd2",
        "outputId": "ad2eceab-735b-4e38-be21-150283d3ff2c"
      },
      "execution_count": 8,
      "outputs": [
        {
          "output_type": "stream",
          "name": "stdout",
          "text": [
            "True\n",
            "False\n",
            "False\n"
          ]
        }
      ]
    },
    {
      "cell_type": "markdown",
      "source": [
        "#**Set A Sets**"
      ],
      "metadata": {
        "id": "u82_3II8cXm6"
      }
    },
    {
      "cell_type": "code",
      "source": [
        "#1 Write a Python program to create a set.\n",
        "\n",
        "x=set(['wlecome','tybcs','in','python','practical'])\n",
        "print(x)\n",
        "print(type(x))"
      ],
      "metadata": {
        "colab": {
          "base_uri": "https://localhost:8080/"
        },
        "id": "KrnYOCndcWHn",
        "outputId": "d1932372-a252-4768-cc5d-6712568166a0"
      },
      "execution_count": 9,
      "outputs": [
        {
          "output_type": "stream",
          "name": "stdout",
          "text": [
            "{'tybcs', 'python', 'wlecome', 'in', 'practical'}\n",
            "<class 'set'>\n"
          ]
        }
      ]
    },
    {
      "cell_type": "code",
      "source": [
        "#2 Write a Python program to iterate over sets.\n",
        "num_set = set([0, 1, 2, 3, 4, 5])\n",
        "for n in num_set:\n",
        "  print(n, end=' ')\n",
        "\n",
        "print(\"\\n\\nCreating a set using string:\")\n",
        "char_set = set(\"Python\")  \n",
        "\n",
        "for val in char_set:\n",
        "    print(val, end=' ')"
      ],
      "metadata": {
        "colab": {
          "base_uri": "https://localhost:8080/"
        },
        "id": "RxtcBd11cdJH",
        "outputId": "e4da3f5e-cf4f-4480-eaf1-5e55bb068d6f"
      },
      "execution_count": 10,
      "outputs": [
        {
          "output_type": "stream",
          "name": "stdout",
          "text": [
            "0 1 2 3 4 5 \n",
            "\n",
            "Creating a set using string:\n",
            "o y t n P h "
          ]
        }
      ]
    },
    {
      "cell_type": "code",
      "source": [
        "#3 Write a Python program to create set difference.\n",
        "set1 = set([1, 1, 2, 3, 4, 5])\n",
        "set2 = set([1, 5, 6, 7, 8, 9])\n",
        "\n",
        "print(\"\\nOriginal sets:\")\n",
        "print(set1)\n",
        "print(set2)\n",
        "\n",
        "r1 = set1.difference(set2)\n",
        "print(\"\\nDifference of set1 - set2:\")\n",
        "print(r1)\n",
        "\n",
        "r2 = set2.difference(set1)\n",
        "print(\"\\nDifference of set2 - set1:\")\n",
        "print(r2)"
      ],
      "metadata": {
        "colab": {
          "base_uri": "https://localhost:8080/"
        },
        "id": "kWQskxMccijQ",
        "outputId": "4c412422-3e02-4eea-d874-25c2bb851b6c"
      },
      "execution_count": 11,
      "outputs": [
        {
          "output_type": "stream",
          "name": "stdout",
          "text": [
            "\n",
            "Original sets:\n",
            "{1, 2, 3, 4, 5}\n",
            "{1, 5, 6, 7, 8, 9}\n",
            "\n",
            "Difference of set1 - set2:\n",
            "{2, 3, 4}\n",
            "\n",
            "Difference of set2 - set1:\n",
            "{8, 9, 6, 7}\n"
          ]
        }
      ]
    },
    {
      "cell_type": "markdown",
      "source": [
        "#**Set A Dictionary**"
      ],
      "metadata": {
        "id": "-a4kaGOfcoJv"
      }
    },
    {
      "cell_type": "code",
      "source": [
        "#1 Write a Python script to sort (ascending and descending) a dictionary by value.\n",
        "import operator\n",
        "d = {1: 2, 3: 4, 4: 3, 2: 1, 0: 0}\n",
        "print('Original dictionary : ',d)\n",
        "\n",
        "Sort_dict = dict( sorted(d.items(), key=operator.itemgetter(1)))\n",
        "print('Ascending order by value : ',Sort_dict)\n",
        "\n",
        "Sort_dict = dict( sorted(d.items(), key=operator.itemgetter(1),reverse=True))\n",
        "print('Descending order by value : ',Sort_dict)"
      ],
      "metadata": {
        "colab": {
          "base_uri": "https://localhost:8080/"
        },
        "id": "aCez2VIacmXn",
        "outputId": "be566478-1016-4842-d64b-4b6b87ccb263"
      },
      "execution_count": 12,
      "outputs": [
        {
          "output_type": "stream",
          "name": "stdout",
          "text": [
            "Original dictionary :  {1: 2, 3: 4, 4: 3, 2: 1, 0: 0}\n",
            "Ascending order by value :  {0: 0, 2: 1, 1: 2, 4: 3, 3: 4}\n",
            "Descending order by value :  {3: 4, 4: 3, 1: 2, 2: 1, 0: 0}\n"
          ]
        }
      ]
    },
    {
      "cell_type": "code",
      "source": [
        "#2 Write a Python script to add a key to a dictionary.\n",
        "d = {0:10, 1:20}\n",
        "print(d)\n",
        "d.update({2:30})\n",
        "print(\"Updated Dictionary with key :\")\n",
        "print(d)"
      ],
      "metadata": {
        "colab": {
          "base_uri": "https://localhost:8080/"
        },
        "id": "95P9XqaPcup3",
        "outputId": "fa1cc2f6-5fa7-4729-be01-f19dd5ef6e38"
      },
      "execution_count": 13,
      "outputs": [
        {
          "output_type": "stream",
          "name": "stdout",
          "text": [
            "{0: 10, 1: 20}\n",
            "Updated Dictionary with key :\n",
            "{0: 10, 1: 20, 2: 30}\n"
          ]
        }
      ]
    },
    {
      "cell_type": "code",
      "source": [
        "#3 Write a Python program to iterate over dictionaries using for loops.\n",
        "d = {'Red': 5, 'Green': 2, 'Blue': 3} \n",
        "for color_key, value in d.items():\n",
        "     print(color_key, 'corresponds to ', d[color_key])"
      ],
      "metadata": {
        "colab": {
          "base_uri": "https://localhost:8080/"
        },
        "id": "deVZHl6ocxb4",
        "outputId": "eb3e0687-97af-48a3-c6f6-bc3814197b4b"
      },
      "execution_count": 14,
      "outputs": [
        {
          "output_type": "stream",
          "name": "stdout",
          "text": [
            "Red corresponds to  5\n",
            "Green corresponds to  2\n",
            "Blue corresponds to  3\n"
          ]
        }
      ]
    },
    {
      "cell_type": "markdown",
      "source": [
        "#**Set B Lists**"
      ],
      "metadata": {
        "id": "8eRANjpHc1ZP"
      }
    },
    {
      "cell_type": "code",
      "source": [
        "#1. Write a Python program to remove duplicates from a list.\n",
        "listb1 = [1, 2, 3, 1, 2, 4, 5, 4 ,6, 2,5,8,8]\n",
        "print(\"List Before removing duplicates :\\n\", listb1)\n",
        "listb2 = [] #Temporary List\n",
        "\n",
        "for i in listb1:\n",
        "    if i not in listb2:\n",
        "        listb2.append(i)\n",
        "\n",
        "listb1 = listb2\n",
        "\n",
        "print(\"List After removing duplicates :\\n\", listb1)"
      ],
      "metadata": {
        "colab": {
          "base_uri": "https://localhost:8080/"
        },
        "id": "KpKUlnidczx_",
        "outputId": "25d1be21-7954-4628-a87d-af27e14a5644"
      },
      "execution_count": 16,
      "outputs": [
        {
          "output_type": "stream",
          "name": "stdout",
          "text": [
            "List Before removing duplicates :\n",
            " [1, 2, 3, 1, 2, 4, 5, 4, 6, 2, 5, 8, 8]\n",
            "List After removing duplicates :\n",
            " [1, 2, 3, 4, 5, 6, 8]\n"
          ]
        }
      ]
    },
    {
      "cell_type": "code",
      "source": [
        "#2. Write a Python program to check a list is empty or not.\n",
        "def Enquiry(lis1):\n",
        "    if len(lis1) == 0:\n",
        "        return 0\n",
        "    else:\n",
        "        return 1\n",
        "        \n",
        "# Driver Code\n",
        "lis1 = [5,6]\n",
        "if Enquiry(lis1):\n",
        "    print (\"The list is not empty\")\n",
        "else:\n",
        "    print(\"Empty List\")"
      ],
      "metadata": {
        "colab": {
          "base_uri": "https://localhost:8080/"
        },
        "id": "qqNdSiwLdA1H",
        "outputId": "5c7ba1fe-e04e-463a-ecd2-e0fc9bfc328e"
      },
      "execution_count": 17,
      "outputs": [
        {
          "output_type": "stream",
          "name": "stdout",
          "text": [
            "The list is not empty\n"
          ]
        }
      ]
    },
    {
      "cell_type": "markdown",
      "source": [
        "#**Set B Tuples**"
      ],
      "metadata": {
        "id": "BEGnIgradGjH"
      }
    },
    {
      "cell_type": "code",
      "source": [
        "#1. Write a Python program to convert a list to a tuple.\n",
        "def convert(list):\n",
        "    return tuple(list)\n",
        "\n",
        "lis = [1, 2, 3, 4]\n",
        "print(convert(lis))"
      ],
      "metadata": {
        "colab": {
          "base_uri": "https://localhost:8080/"
        },
        "id": "b8wPvaoHdDBG",
        "outputId": "f173b869-2169-47c2-bcca-0c6c35099735"
      },
      "execution_count": 18,
      "outputs": [
        {
          "output_type": "stream",
          "name": "stdout",
          "text": [
            "(1, 2, 3, 4)\n"
          ]
        }
      ]
    },
    {
      "cell_type": "code",
      "source": [
        "#2. Write a Python program to remove an item from a tuple.\n",
        "tuplee = [(1,2), (2.25, 9.9), (\"Python\", \"practical\")]\n",
        "tuplee.pop(1)\n",
        "print(tuplee)"
      ],
      "metadata": {
        "colab": {
          "base_uri": "https://localhost:8080/"
        },
        "id": "7aJ00qN7dNVX",
        "outputId": "54251352-609a-453b-f102-f137a13fd08c"
      },
      "execution_count": 19,
      "outputs": [
        {
          "output_type": "stream",
          "name": "stdout",
          "text": [
            "[(1, 2), ('Python', 'practical')]\n"
          ]
        }
      ]
    },
    {
      "cell_type": "code",
      "source": [
        "#3. Write a Python program to slice a tuple.\n",
        "numTuple = (11, 22, 33, 44, 55, 66, 77, 88, 99, 100)\n",
        "print(\"Tuple Items = \", numTuple)\n",
        "\n",
        "slice1 = numTuple[1:7]\n",
        "print(\"Tuple Items from 2 to 6 = \", slice1)"
      ],
      "metadata": {
        "colab": {
          "base_uri": "https://localhost:8080/"
        },
        "id": "jPf5iNTwdRcn",
        "outputId": "d5a9a06e-8957-47aa-83c5-1976e2cf41cf"
      },
      "execution_count": 20,
      "outputs": [
        {
          "output_type": "stream",
          "name": "stdout",
          "text": [
            "Tuple Items =  (11, 22, 33, 44, 55, 66, 77, 88, 99, 100)\n",
            "Tuple Items from 2 to 6 =  (22, 33, 44, 55, 66, 77)\n"
          ]
        }
      ]
    },
    {
      "cell_type": "code",
      "source": [
        "#4. Write a Python program to find the length of a tuple.\n",
        "tuple1 = (10, 20, 30, 40, 50,60)\n",
        "print(\"Tuple Items = \", tuple1)\n",
        "\n",
        "print(\"Tuple Length = \", len(tuple1))"
      ],
      "metadata": {
        "colab": {
          "base_uri": "https://localhost:8080/"
        },
        "id": "9ghWx1C9dUoP",
        "outputId": "a1021ccd-d16e-4554-f2ee-86e5c87a9f87"
      },
      "execution_count": 21,
      "outputs": [
        {
          "output_type": "stream",
          "name": "stdout",
          "text": [
            "Tuple Items =  (10, 20, 30, 40, 50, 60)\n",
            "Tuple Length =  6\n"
          ]
        }
      ]
    },
    {
      "cell_type": "markdown",
      "source": [
        "#**Set B Sets**"
      ],
      "metadata": {
        "id": "GDlRF6czdW7v"
      }
    },
    {
      "cell_type": "code",
      "source": [
        "#1. Write a Python program to check if a set is a subset of another set.\n",
        "A = {1, 2, 3,4}\n",
        "B = {1, 2, 3, 4, 6}\n",
        "C = {1, 2, 4,4}\n",
        "\n",
        "print(\"A is SubSet B :\",A.issubset(B))\n",
        "\n",
        "print(\"B is SubSet A :\",B.issubset(A))\n",
        "\n",
        "print(\"A is SubSet C :\",A.issubset(C))\n",
        "\n",
        "print(\"C is SubSet B :\",C.issubset(B))"
      ],
      "metadata": {
        "colab": {
          "base_uri": "https://localhost:8080/"
        },
        "id": "yIv15bmMdabo",
        "outputId": "c3bbe9db-4797-411b-9b01-8b04d35928ed"
      },
      "execution_count": 22,
      "outputs": [
        {
          "output_type": "stream",
          "name": "stdout",
          "text": [
            "A is SubSet B : True\n",
            "B is SubSet A : False\n",
            "A is SubSet C : False\n",
            "C is SubSet B : True\n"
          ]
        }
      ]
    },
    {
      "cell_type": "code",
      "source": [
        "#2. Write a Python program to find maximum and the minimum value in a set.\n",
        "setn = {5, 10, 3, 15, 2, 20}\n",
        "print(\"Original set elements:\")\n",
        "print(setn)\n",
        "print(type(setn))\n",
        "\n",
        "print(\"\\nMaximum value of the said set:\")\n",
        "print(max(setn))\n",
        "\n",
        "print(\"\\nMinimum value of the said set:\")\n",
        "print(min(setn))"
      ],
      "metadata": {
        "colab": {
          "base_uri": "https://localhost:8080/"
        },
        "id": "gDx2r4f6ddk4",
        "outputId": "fc74958b-c98b-46c4-9c68-be0d6ca1108e"
      },
      "execution_count": 23,
      "outputs": [
        {
          "output_type": "stream",
          "name": "stdout",
          "text": [
            "Original set elements:\n",
            "{2, 3, 5, 10, 15, 20}\n",
            "<class 'set'>\n",
            "\n",
            "Maximum value of the said set:\n",
            "20\n",
            "\n",
            "Minimum value of the said set:\n",
            "2\n"
          ]
        }
      ]
    },
    {
      "cell_type": "code",
      "source": [
        "#3. Write a Python program to find the length of a set.\n",
        "setn = {5, 10, 3, 15, 2, 20}\n",
        "print(\"\\nOriginal set elements:\")\n",
        "print(setn)\n",
        "print(type(setn))\n",
        "print(\"Length of the set:\")\n",
        "print(len(setn))\n",
        "\n",
        "setn = {5, 5, 5, 5, 5, 5}\n",
        "print(\"\\nOriginal set elements:\")\n",
        "print(setn)\n",
        "print(\"Length of the set:\")\n",
        "print(len(setn))\n",
        "\n",
        "setn = {5, 5, 5, 5, 5, 5, 7}\n",
        "print(\"\\nOriginal set elements:\")\n",
        "print(setn)\n",
        "print(\"Length of the set:\")\n",
        "print(len(setn))"
      ],
      "metadata": {
        "colab": {
          "base_uri": "https://localhost:8080/"
        },
        "id": "WYXr1Lxqdg0G",
        "outputId": "08e8cd78-41b1-4e71-a0e5-057b7c6e2b43"
      },
      "execution_count": 24,
      "outputs": [
        {
          "output_type": "stream",
          "name": "stdout",
          "text": [
            "\n",
            "Original set elements:\n",
            "{2, 3, 5, 10, 15, 20}\n",
            "<class 'set'>\n",
            "Length of the set:\n",
            "6\n",
            "\n",
            "Original set elements:\n",
            "{5}\n",
            "Length of the set:\n",
            "1\n",
            "\n",
            "Original set elements:\n",
            "{5, 7}\n",
            "Length of the set:\n",
            "2\n"
          ]
        }
      ]
    },
    {
      "cell_type": "markdown",
      "source": [
        "#**Set B Dictionary**"
      ],
      "metadata": {
        "id": "rXErJ7pQdlL-"
      }
    },
    {
      "cell_type": "code",
      "source": [
        "#1. Write a Python script to generate and print a dictionary that contains a number (between 1 and n) \n",
        "#in the form (x, x*x).\n",
        "n=int(input(\"Input a number :\"))\n",
        "d = dict()\n",
        "\n",
        "for x in range(1,n+1):\n",
        "    d[x]=x*x\n",
        "\n",
        "print(\"A number (between 1 and n) in the form (x, x*x) :\\n \",d) "
      ],
      "metadata": {
        "colab": {
          "base_uri": "https://localhost:8080/"
        },
        "id": "lGBABZyddjsf",
        "outputId": "4c75aaac-e204-4570-cad4-6ce9573de973"
      },
      "execution_count": 25,
      "outputs": [
        {
          "output_type": "stream",
          "name": "stdout",
          "text": [
            "Input a number :3\n",
            "A number (between 1 and n) in the form (x, x*x) :\n",
            "  {1: 1, 2: 4, 3: 9}\n"
          ]
        }
      ]
    },
    {
      "cell_type": "code",
      "source": [
        "#2. Write a Python script to merge two Python dictionaries.\n",
        "d1 = {'a': 100, 'b': 200}\n",
        "print(\"Dictionary 1:\",d1)\n",
        "d2 = {'x': 300, 'y': 200}\n",
        "print(\"\\nDictionary 2:\",d2)\n",
        "d = d1.copy()\n",
        "d.update(d2)\n",
        "print(\"\\nMerged Dictionary :\\n\",d)"
      ],
      "metadata": {
        "colab": {
          "base_uri": "https://localhost:8080/"
        },
        "id": "BE6QtkXSd1D3",
        "outputId": "8befeeac-1ca8-49f6-b82a-a124461f44d4"
      },
      "execution_count": 26,
      "outputs": [
        {
          "output_type": "stream",
          "name": "stdout",
          "text": [
            "Dictionary 1: {'a': 100, 'b': 200}\n",
            "\n",
            "Dictionary 2: {'x': 300, 'y': 200}\n",
            "\n",
            "Merged Dictionary :\n",
            " {'a': 100, 'b': 200, 'x': 300, 'y': 200}\n"
          ]
        }
      ]
    },
    {
      "cell_type": "code",
      "source": [
        "#3. Write a Python program to get a dictionary from an object's fields.\n",
        "class dictObj(object):\n",
        "     def __init__(self):\n",
        "         self.x = 'red'\n",
        "         self.y = 'Yellow'\n",
        "         self.z = 'Green'\n",
        "     def do_nothing(self):\n",
        "         pass\n",
        "test = dictObj()\n",
        "print(test.__dict__)"
      ],
      "metadata": {
        "colab": {
          "base_uri": "https://localhost:8080/"
        },
        "id": "-4mpcwahd3K3",
        "outputId": "b4bbe547-b25e-4ea6-94f9-b57c7a5970bc"
      },
      "execution_count": 27,
      "outputs": [
        {
          "output_type": "stream",
          "name": "stdout",
          "text": [
            "{'x': 'red', 'y': 'Yellow', 'z': 'Green'}\n"
          ]
        }
      ]
    },
    {
      "cell_type": "markdown",
      "source": [
        "#**Programs for practice**"
      ],
      "metadata": {
        "id": "mLAXxEt4d792"
      }
    },
    {
      "cell_type": "code",
      "source": [
        "#1. Write a Python program to get the largest number from a list.\n",
        "list1 = [10, 20, 4, 45, 99,105]\n",
        "list1.sort()\n",
        "print(\"Largest element is:\", list1[-1])"
      ],
      "metadata": {
        "colab": {
          "base_uri": "https://localhost:8080/"
        },
        "id": "gGOU4LqDd6sv",
        "outputId": "a83837d8-eb69-4cb6-f781-4f661be7ed0b"
      },
      "execution_count": 28,
      "outputs": [
        {
          "output_type": "stream",
          "name": "stdout",
          "text": [
            "Largest element is: 105\n"
          ]
        }
      ]
    },
    {
      "cell_type": "code",
      "source": [
        "#2. Write a Python program to get the smallest number from a list.\n",
        "list1 = [10, 20, 4, 45, 99,0]\n",
        "list1.sort()\n",
        "print(\"Smallest element is:\", *list1[:1])"
      ],
      "metadata": {
        "colab": {
          "base_uri": "https://localhost:8080/"
        },
        "id": "xRspkW6meBWA",
        "outputId": "4ce76379-1f60-42de-aa59-a7364eb3b0f7"
      },
      "execution_count": 29,
      "outputs": [
        {
          "output_type": "stream",
          "name": "stdout",
          "text": [
            "Smallest element is: 0\n"
          ]
        }
      ]
    },
    {
      "cell_type": "code",
      "source": [
        "#3. Write a Python program to count the number of strings where the string length is 2 \n",
        "#or more and the first and last character are same from a given list of strings\n",
        "def match_words(words):\n",
        "  ctr = 0\n",
        "\n",
        "  for word in words:\n",
        "    if len(word) > 1 and word[0] == word[-1]:\n",
        "      ctr += 1\n",
        "  return ctr\n",
        "\n",
        "print(match_words(['abc', 'xyz', 'aba', '1221','121','xyxab']))"
      ],
      "metadata": {
        "colab": {
          "base_uri": "https://localhost:8080/"
        },
        "id": "CuCFNnf-eDHv",
        "outputId": "d2c0347e-2c38-4173-b8b2-c3e45b825432"
      },
      "execution_count": 30,
      "outputs": [
        {
          "output_type": "stream",
          "name": "stdout",
          "text": [
            "3\n"
          ]
        }
      ]
    },
    {
      "cell_type": "code",
      "source": [
        "#4. Write a Python program to add an item in a tuple.\n",
        "#create a tuple\n",
        "intTuple = (10, 20, 30, 40, 50)\n",
        "print(\"Tuple Items = \", intTuple)\n",
        "\n",
        "intTuple = intTuple + (70,)\n",
        "print(\"Tuple Items = \", intTuple)\n",
        "\n",
        "intTuple = intTuple + (80, 90)\n",
        "print(\"Tuple Items = \", intTuple)\n",
        "\n",
        "intTuple = intTuple[2:5] + (11, 22, 33, 44) + intTuple[7:]\n",
        "print(\"Tuple Items = \", intTuple)"
      ],
      "metadata": {
        "colab": {
          "base_uri": "https://localhost:8080/"
        },
        "id": "KwAKXLkueE8x",
        "outputId": "30f01505-2290-410a-a8d0-03b6ea886bc2"
      },
      "execution_count": 31,
      "outputs": [
        {
          "output_type": "stream",
          "name": "stdout",
          "text": [
            "Tuple Items =  (10, 20, 30, 40, 50)\n",
            "Tuple Items =  (10, 20, 30, 40, 50, 70)\n",
            "Tuple Items =  (10, 20, 30, 40, 50, 70, 80, 90)\n",
            "Tuple Items =  (30, 40, 50, 11, 22, 33, 44, 90)\n"
          ]
        }
      ]
    },
    {
      "cell_type": "code",
      "source": [
        "#5. Write a Python program to convert a tuple to a string.\n",
        "def convertTuple(tup):\n",
        "        # initialize an empty string\n",
        "    str1 = ''\n",
        "    for item in tup:\n",
        "        str1 = str1 + item\n",
        "    return str1\n",
        " \n",
        "tuple1 = ('p', 'y', 't', 'h', 'o','n')\n",
        "str1 = convertTuple(tuple1)\n",
        "print(tuple1)\n",
        "print(str1)"
      ],
      "metadata": {
        "colab": {
          "base_uri": "https://localhost:8080/"
        },
        "id": "2dC9ZtMieHPu",
        "outputId": "6bd6a74c-4a67-47e6-ada5-4fefee66b8af"
      },
      "execution_count": 32,
      "outputs": [
        {
          "output_type": "stream",
          "name": "stdout",
          "text": [
            "('p', 'y', 't', 'h', 'o', 'n')\n",
            "python\n"
          ]
        }
      ]
    },
    {
      "cell_type": "code",
      "source": [
        "#6. Write a Python program to create the colon of a tuple.\n",
        "from copy import deepcopy\n",
        "#create a tuple\n",
        "tuplex = (\"HELLO\", 5, [], True) \n",
        "print(tuplex)\n",
        "#make a copy of a tuple using deepcopy() function\n",
        "tuplex_colon = deepcopy(tuplex)\n",
        "tuplex_colon[2].append(50)\n",
        "print(tuplex_colon)\n",
        "print(tuplex)"
      ],
      "metadata": {
        "colab": {
          "base_uri": "https://localhost:8080/"
        },
        "id": "KPAJ1S1CeNZ2",
        "outputId": "67f04750-ff53-4101-ec28-d48302ffa105"
      },
      "execution_count": 33,
      "outputs": [
        {
          "output_type": "stream",
          "name": "stdout",
          "text": [
            "('HELLO', 5, [], True)\n",
            "('HELLO', 5, [50], True)\n",
            "('HELLO', 5, [], True)\n"
          ]
        }
      ]
    },
    {
      "cell_type": "code",
      "source": [
        "#7. Write a Python program to unpack a tuple in several variables\n",
        "tuplex = 4, 8, 3,5\n",
        "print(tuplex)\n",
        "n1, n2, n3,n4 = tuplex\n",
        "#unpack a tuple in variables\n",
        "print(n1 + n2 + n3+n4) \n",
        "#the number of variables must be equal to the number of items of the tuple\n",
        "n1, n2, n3, n4= tuplex "
      ],
      "metadata": {
        "colab": {
          "base_uri": "https://localhost:8080/"
        },
        "id": "xSBylxwKeQU3",
        "outputId": "2bcdb1a9-d16e-474c-f6a5-7a7aafdef8a4"
      },
      "execution_count": 34,
      "outputs": [
        {
          "output_type": "stream",
          "name": "stdout",
          "text": [
            "(4, 8, 3, 5)\n",
            "20\n"
          ]
        }
      ]
    },
    {
      "cell_type": "code",
      "source": [
        "#8. Write a Python program to add member(s) in a set.\n",
        "color_set = set()\n",
        "print(color_set)\n",
        "print(\"\\nAdd single element:\")\n",
        "color_set.add(\"Red\")\n",
        "print(color_set)\n",
        "print(\"\\nAdd multiple items:\")\n",
        "color_set.update([\"Blue\", \"Green\"])\n",
        "print(color_set)"
      ],
      "metadata": {
        "colab": {
          "base_uri": "https://localhost:8080/"
        },
        "id": "1yahVH__eSZf",
        "outputId": "ebffce30-292b-42a8-b839-39ac418f34ab"
      },
      "execution_count": 35,
      "outputs": [
        {
          "output_type": "stream",
          "name": "stdout",
          "text": [
            "set()\n",
            "\n",
            "Add single element:\n",
            "{'Red'}\n",
            "\n",
            "Add multiple items:\n",
            "{'Red', 'Blue', 'Green'}\n"
          ]
        }
      ]
    },
    {
      "cell_type": "code",
      "source": [
        "#9. Write a Python program to remove item(s) from set\n",
        "num_set = set([0, 1, 3, 4, 5])\n",
        "print(\"Original set:\")\n",
        "print(num_set)\n",
        "num_set.pop()\n",
        "print(\"\\nAfter removing the element from the set:\")\n",
        "print(num_set)"
      ],
      "metadata": {
        "colab": {
          "base_uri": "https://localhost:8080/"
        },
        "id": "YEhCW4KEeULm",
        "outputId": "56410504-6df2-4697-9f28-358b731ae6ad"
      },
      "execution_count": 36,
      "outputs": [
        {
          "output_type": "stream",
          "name": "stdout",
          "text": [
            "Original set:\n",
            "{0, 1, 3, 4, 5}\n",
            "\n",
            "After removing the element from the set:\n",
            "{1, 3, 4, 5}\n"
          ]
        }
      ]
    },
    {
      "cell_type": "code",
      "source": [
        "#10. Write a Python program to create an intersection of sets\n",
        "A = {2, 3, 5, 4}\n",
        "B = {2, 5, 100}\n",
        "C = {2, 3, 8, 9, 10}\n",
        "\n",
        "print(B.intersection(A))\n",
        "print(B.intersection(C))\n",
        "print(A.intersection(C))\n",
        "\n",
        "print(C.intersection(A, B))"
      ],
      "metadata": {
        "colab": {
          "base_uri": "https://localhost:8080/"
        },
        "id": "-5kWi_U2eXGu",
        "outputId": "5955ea9f-6a2f-41db-ca2b-ab792da5322b"
      },
      "execution_count": 37,
      "outputs": [
        {
          "output_type": "stream",
          "name": "stdout",
          "text": [
            "{2, 5}\n",
            "{2}\n",
            "{2, 3}\n",
            "{2}\n"
          ]
        }
      ]
    },
    {
      "cell_type": "code",
      "source": [
        "#11. Write a Python program to create a union of sets.\n",
        "# Python3 program for union() function\n",
        " \n",
        "set1 = {2, 4, 5, 6}\n",
        "set2 = {4, 6, 7, 8}\n",
        "set3 = {7, 8, 9, 10}\n",
        " \n",
        "# union of two sets\n",
        "print(\"set1 U set2 : \", set1.union(set2))\n",
        " \n",
        "# union of three sets\n",
        "print(\"set1 U set2 U set3 :\", set1.union(set2, set3))"
      ],
      "metadata": {
        "colab": {
          "base_uri": "https://localhost:8080/"
        },
        "id": "kjiyi7TdeZZ2",
        "outputId": "6213f7c1-7382-4903-96f8-93ea56cf288b"
      },
      "execution_count": 38,
      "outputs": [
        {
          "output_type": "stream",
          "name": "stdout",
          "text": [
            "set1 U set2 :  {2, 4, 5, 6, 7, 8}\n",
            "set1 U set2 U set3 : {2, 4, 5, 6, 7, 8, 9, 10}\n"
          ]
        }
      ]
    },
    {
      "cell_type": "code",
      "source": [
        "#12. Write a Python script to concatenate following dictionaries to create a new one.\n",
        "dic1={1:10, 2:20}  \n",
        "dic2={3:30, 4:40}  \n",
        "dic3={5:50,6:60}  \n",
        "dic4 = {2.20:8.50}  \n",
        "for d in (dic1, dic2, dic3): dic4.update(d)  \n",
        "print(dic4)"
      ],
      "metadata": {
        "colab": {
          "base_uri": "https://localhost:8080/"
        },
        "id": "qp3vIaCbecAu",
        "outputId": "6a29b600-b386-4d48-9e3b-42524f3d9b6e"
      },
      "execution_count": 39,
      "outputs": [
        {
          "output_type": "stream",
          "name": "stdout",
          "text": [
            "{2.2: 8.5, 1: 10, 2: 20, 3: 30, 4: 40, 5: 50, 6: 60}\n"
          ]
        }
      ]
    },
    {
      "cell_type": "code",
      "source": [
        "#13. Write a Python program to map two lists into a dictionary.\n",
        "keys = ['red', 'green', 'blue']\n",
        "values = ['#FF0000','#008000', '#0000FF']\n",
        "color_dictionary = dict(zip(keys, values))\n",
        "print(color_dictionary)"
      ],
      "metadata": {
        "colab": {
          "base_uri": "https://localhost:8080/"
        },
        "id": "1nl_R-5Ked6n",
        "outputId": "859a242b-c620-4b8e-cb97-701b61825fe7"
      },
      "execution_count": 40,
      "outputs": [
        {
          "output_type": "stream",
          "name": "stdout",
          "text": [
            "{'red': '#FF0000', 'green': '#008000', 'blue': '#0000FF'}\n"
          ]
        }
      ]
    },
    {
      "cell_type": "code",
      "source": [
        "#14. Write a Python program to sort a dictionary by key.\n",
        "color_dict = {'red':'#FF0000',\n",
        "          'green':'#008000',\n",
        "          'black':'#000000',\n",
        "          'white':'#FFFFFF'}\n",
        "\n",
        "for key in sorted(color_dict):\n",
        "    print(\"%s: %s\" % (key, color_dict[key]))"
      ],
      "metadata": {
        "colab": {
          "base_uri": "https://localhost:8080/"
        },
        "id": "u9oC96BGeftm",
        "outputId": "b86b4417-7461-405b-9c84-1d7a6110cf1d"
      },
      "execution_count": 41,
      "outputs": [
        {
          "output_type": "stream",
          "name": "stdout",
          "text": [
            "black: #000000\n",
            "green: #008000\n",
            "red: #FF0000\n",
            "white: #FFFFFF\n"
          ]
        }
      ]
    },
    {
      "cell_type": "code",
      "source": [
        "#15. Write a Python program to get the maximum and minimum value in a dictionary\n",
        "my_dict = {'x':500, 'y':5874, 'z': 560}\n",
        "\n",
        "key_max = max(my_dict.keys(), key=(lambda k: my_dict[k]))\n",
        "key_min = min(my_dict.keys(), key=(lambda k: my_dict[k]))\n",
        "\n",
        "print('Maximum Value: ',my_dict[key_max])\n",
        "print('Minimum Value: ',my_dict[key_min])"
      ],
      "metadata": {
        "colab": {
          "base_uri": "https://localhost:8080/"
        },
        "id": "596t8W5vehr1",
        "outputId": "db6ac9f6-40d3-4b36-c1df-fd5ad3bb9859"
      },
      "execution_count": 42,
      "outputs": [
        {
          "output_type": "stream",
          "name": "stdout",
          "text": [
            "Maximum Value:  5874\n",
            "Minimum Value:  500\n"
          ]
        }
      ]
    },
    {
      "cell_type": "code",
      "source": [
        "#16. Write a Python program to clone or copy a list.\n",
        "def Cloning(li1):\n",
        "    li_copy = li1[:]\n",
        "    return li_copy\n",
        "   \n",
        "# Driver Code\n",
        "li1 = [4, 8, 2, 10, 15, 18]\n",
        "li2 = Cloning(li1)\n",
        "print(\"Original List:\", li1)\n",
        "print(\"After Cloning:\", li2)"
      ],
      "metadata": {
        "colab": {
          "base_uri": "https://localhost:8080/"
        },
        "id": "rRpk-DUkejll",
        "outputId": "9d0ccd03-4658-4714-da04-141629c1092b"
      },
      "execution_count": 43,
      "outputs": [
        {
          "output_type": "stream",
          "name": "stdout",
          "text": [
            "Original List: [4, 8, 2, 10, 15, 18]\n",
            "After Cloning: [4, 8, 2, 10, 15, 18]\n"
          ]
        }
      ]
    },
    {
      "cell_type": "code",
      "source": [
        "#17. Write a Python program to find the list of words that are longer than n from a given list of words.\n",
        "def long_words(n, str):\n",
        "    word_len = []\n",
        "    txt = str.split(\" \")\n",
        "    for x in txt:\n",
        "        if len(x) > n:\n",
        "            word_len.append(x)\n",
        "    return word_len\t\n",
        "print(long_words(5, \"Hello Tybcs Welcome to Python Practical\"))"
      ],
      "metadata": {
        "colab": {
          "base_uri": "https://localhost:8080/"
        },
        "id": "Uyt5OGaQelgN",
        "outputId": "eaffd6e2-9e59-4f06-862a-72779aa37b7e"
      },
      "execution_count": 44,
      "outputs": [
        {
          "output_type": "stream",
          "name": "stdout",
          "text": [
            "['Welcome', 'Python', 'Practical']\n"
          ]
        }
      ]
    },
    {
      "cell_type": "code",
      "source": [
        "#18. Write a Python program to unzip a list of tuples into individual lists.\n",
        "test_list = [('pranjal', 1), ('humera', 2), ('sakshi', 3), ('supriya', 4)]\n",
        "print (\"Original list is : \"  )\n",
        "print(test_list)\n",
        "res = map(None, *test_list)\n",
        "print (\"Modified list is : \" )\n",
        "print(res)"
      ],
      "metadata": {
        "colab": {
          "base_uri": "https://localhost:8080/"
        },
        "id": "QsEgznkWeocv",
        "outputId": "a68d8d07-83a7-45a6-eb42-05c16ae8aad8"
      },
      "execution_count": 45,
      "outputs": [
        {
          "output_type": "stream",
          "name": "stdout",
          "text": [
            "Original list is : \n",
            "[('pranjal', 1), ('humera', 2), ('sakshi', 3), ('supriya', 4)]\n",
            "Modified list is : \n",
            "<map object at 0x7f245f9c0c90>\n"
          ]
        }
      ]
    },
    {
      "cell_type": "code",
      "source": [
        "# Python code to demonstrate\n",
        "# Unzip a list of tuples\n",
        "# using map()\n",
        "\n",
        "# initializing list of tuples\n",
        "test_list = [(5, 1), (4, 2), (2, 3), (7, 4)]\n",
        "\n",
        "# Printing original list\n",
        "print (\"Original list is : \")\n",
        "print(test_list)\n",
        "\n",
        "# using map() to\n",
        "# perform Unzipping\n",
        "res = map(None, *test_list)\n",
        "\t\n",
        "# Printing modified list\n",
        "print (\"Modified list is : \" )\n",
        "print(res)"
      ],
      "metadata": {
        "colab": {
          "base_uri": "https://localhost:8080/"
        },
        "id": "HWJYQy3ceraR",
        "outputId": "c0762f18-8138-4096-f2d5-b63b13a6c330"
      },
      "execution_count": 46,
      "outputs": [
        {
          "output_type": "stream",
          "name": "stdout",
          "text": [
            "Original list is : \n",
            "[(5, 1), (4, 2), (2, 3), (7, 4)]\n",
            "Modified list is : \n",
            "<map object at 0x7f24545e4310>\n"
          ]
        }
      ]
    },
    {
      "cell_type": "code",
      "source": [
        "#19. Write a Python program to reverse a tuple.\n",
        "def Reverse(tuples):\n",
        "    new_tup = tuples[::-1]\n",
        "    return new_tup\n",
        "tuples = ('python')\n",
        "print(Reverse(tuples))"
      ],
      "metadata": {
        "colab": {
          "base_uri": "https://localhost:8080/"
        },
        "id": "D_umVRfSeuI8",
        "outputId": "fb5ef221-95d5-49e8-c705-09055f4845b0"
      },
      "execution_count": 47,
      "outputs": [
        {
          "output_type": "stream",
          "name": "stdout",
          "text": [
            "nohtyp\n"
          ]
        }
      ]
    },
    {
      "cell_type": "code",
      "source": [
        "#20. Write a Python program to convert a list of tuples into a dictionary.\n",
        "def Convert(tup, di):\n",
        "    for a, b in tup:\n",
        "        di.setdefault(a, []).append(b)\n",
        "    return di\n",
        "      \n",
        "# Driver Code    \n",
        "tups = [('pranjal', 10), (\"sakshi\", 12), (\"humera\", 14)]\n",
        "dictionary = {}\n",
        "print (Convert(tups, dictionary))"
      ],
      "metadata": {
        "colab": {
          "base_uri": "https://localhost:8080/"
        },
        "id": "aMfwM6mhev8A",
        "outputId": "4547f03d-936c-4dea-8101-01832c6a9abf"
      },
      "execution_count": 48,
      "outputs": [
        {
          "output_type": "stream",
          "name": "stdout",
          "text": [
            "{'pranjal': [10], 'sakshi': [12], 'humera': [14]}\n"
          ]
        }
      ]
    },
    {
      "cell_type": "code",
      "source": [
        "#21. Write a Python program to print a tuple with string formatting.\n",
        "t = (100, 200, 300,'pranjal')\n",
        "print('This is a tuple {0}'.format(t))"
      ],
      "metadata": {
        "colab": {
          "base_uri": "https://localhost:8080/"
        },
        "id": "qd8AxD6Qex0F",
        "outputId": "08ff027a-3176-469c-9d11-4471303997ba"
      },
      "execution_count": 49,
      "outputs": [
        {
          "output_type": "stream",
          "name": "stdout",
          "text": [
            "This is a tuple (100, 200, 300, 'pranjal')\n"
          ]
        }
      ]
    },
    {
      "cell_type": "code",
      "source": [
        "#22. Write a Python program to create a symmetric difference.\n",
        "set1 = set([\"green\", \"blue\",\"pink\"])\n",
        "set2 = set([\"blue\", \"yellow\",\"purple\",\"green\"])\n",
        "print(\"Original sets:\")\n",
        "print(set1)\n",
        "print(set2)\n",
        "r1 = set1.symmetric_difference(set2)\n",
        "print(\"\\nSymmetric difference of set1 - set2:\")\n",
        "print(r1)\n",
        "r2 = set2.symmetric_difference(set1)\n",
        "print(\"\\nSymmetric difference of set2 - set1:\")\n",
        "print(r2)"
      ],
      "metadata": {
        "colab": {
          "base_uri": "https://localhost:8080/"
        },
        "id": "0jcA5fuPez5H",
        "outputId": "e4bf1ab1-6a16-40ed-f91d-5ca00c628ec7"
      },
      "execution_count": 50,
      "outputs": [
        {
          "output_type": "stream",
          "name": "stdout",
          "text": [
            "Original sets:\n",
            "{'blue', 'pink', 'green'}\n",
            "{'yellow', 'purple', 'blue', 'green'}\n",
            "\n",
            "Symmetric difference of set1 - set2:\n",
            "{'pink', 'yellow', 'purple'}\n",
            "\n",
            "Symmetric difference of set2 - set1:\n",
            "{'pink', 'yellow', 'purple'}\n"
          ]
        }
      ]
    },
    {
      "cell_type": "code",
      "source": [
        "#23. Write a Python program to check if a given value is present in a set or not.\n",
        "nums = {1, 3, 5, 7, 9, 11}\n",
        "print(\"Original sets(nums): \",nums,\"\\n\")\n",
        "print(\"Test if 6 exists in nums:\")\n",
        "print(6 in nums)\n",
        "print(\"\\nTest if 7 exists in nums:\")\n",
        "print(7 in nums)\n",
        "print(\"\\nTest if 15 exists in nums:\")\n",
        "print(15 in nums)"
      ],
      "metadata": {
        "colab": {
          "base_uri": "https://localhost:8080/"
        },
        "id": "dyIJUmkte1_P",
        "outputId": "09ccff9b-e5f6-42b2-b49c-d34671fc8fd2"
      },
      "execution_count": 51,
      "outputs": [
        {
          "output_type": "stream",
          "name": "stdout",
          "text": [
            "Original sets(nums):  {1, 3, 5, 7, 9, 11} \n",
            "\n",
            "Test if 6 exists in nums:\n",
            "False\n",
            "\n",
            "Test if 7 exists in nums:\n",
            "True\n",
            "\n",
            "Test if 15 exists in nums:\n",
            "False\n"
          ]
        }
      ]
    },
    {
      "cell_type": "code",
      "source": [
        "#24. Write a Python program to check if a given set is superset of itself and superset of another given set\n",
        "A = {4, 1, 3, 5}\n",
        "B = {6, 0, 4, 1, 5, 0, 3, 5}\n",
        "print(\"A.issuperset(B) : \", A.issuperset(B))\n",
        "print(\"B.issuperset(A) : \", B.issuperset(A))"
      ],
      "metadata": {
        "colab": {
          "base_uri": "https://localhost:8080/"
        },
        "id": "w59YqoZRe4BH",
        "outputId": "ca269888-c312-44ec-8975-31efacf5ed5c"
      },
      "execution_count": 52,
      "outputs": [
        {
          "output_type": "stream",
          "name": "stdout",
          "text": [
            "A.issuperset(B) :  False\n",
            "B.issuperset(A) :  True\n"
          ]
        }
      ]
    },
    {
      "cell_type": "code",
      "source": [
        "#25. Write a Python program to check a given set has no elements in common with other given set.\n",
        "sn1 = {1,2,3}\n",
        "sn2 = {4,5,6}\n",
        "sn3 = {3}\n",
        "print(\"Original sets:\")\n",
        "print(sn1)\n",
        "print(sn2)\n",
        "print(sn3)\n",
        "print(\"Check sn1 set has no elements in common with sn2 set:\")\n",
        "print(sn1.isdisjoint(sn2))\n",
        "print(\"Check sn1 set has no elements in common with sn3 set:\")\n",
        "print(sn1.isdisjoint(sn3))"
      ],
      "metadata": {
        "colab": {
          "base_uri": "https://localhost:8080/"
        },
        "id": "C2mxrSMce6Cf",
        "outputId": "6ba8f6a7-37a0-48c5-ff1d-936c7b5451e1"
      },
      "execution_count": 53,
      "outputs": [
        {
          "output_type": "stream",
          "name": "stdout",
          "text": [
            "Original sets:\n",
            "{1, 2, 3}\n",
            "{4, 5, 6}\n",
            "{3}\n",
            "Check sn1 set has no elements in common with sn2 set:\n",
            "True\n",
            "Check sn1 set has no elements in common with sn3 set:\n",
            "False\n"
          ]
        }
      ]
    },
    {
      "cell_type": "code",
      "source": [
        "#26. Write a Python program to remove the intersection of a 2nd set from the 1st set.\n",
        "sn1 = {1,2,3,4,5}\n",
        "sn2 = {4,5,6,7,8}\n",
        "print(\"Original sets:\")\n",
        "print(sn1)\n",
        "print(sn2)\n",
        "print(\"\\nRemove the intersection of a 2nd set from the 1st set using difference_update():\")\n",
        "sn1.difference_update(sn2)\n",
        "print(\"sn1: \",sn1)\n",
        "print(\"sn2: \",sn2)"
      ],
      "metadata": {
        "colab": {
          "base_uri": "https://localhost:8080/"
        },
        "id": "z49A6zaGe79B",
        "outputId": "573b1b14-aee1-4a15-8f42-6e292f169a23"
      },
      "execution_count": 54,
      "outputs": [
        {
          "output_type": "stream",
          "name": "stdout",
          "text": [
            "Original sets:\n",
            "{1, 2, 3, 4, 5}\n",
            "{4, 5, 6, 7, 8}\n",
            "\n",
            "Remove the intersection of a 2nd set from the 1st set using difference_update():\n",
            "sn1:  {1, 2, 3}\n",
            "sn2:  {4, 5, 6, 7, 8}\n"
          ]
        }
      ]
    },
    {
      "cell_type": "code",
      "source": [
        "#27. Write a Python program to remove duplicates from Dictionary\n",
        "# Python3 code to demonstrate working of\n",
        "# Remove duplicate values in dictionary\n",
        "# Using loop\n",
        "\n",
        "# initializing dictionary\n",
        "test_dict = { 5 : 10, 4 : 15, 6 : 20,5:10,4:10}\n",
        "\n",
        "# printing original dictionary\n",
        "print(\"The original dictionary is : \")\n",
        "print(test_dict)\n",
        "\n",
        "# Remove duplicate values in dictionary\n",
        "# Using loop\n",
        "temp = []\n",
        "res = dict()\n",
        "for key, val in test_dict.items():\n",
        "\tif val not in temp:\n",
        "\t\ttemp.append(val)\n",
        "\t\tres[key] = val\n",
        "\n",
        "# printing result\n",
        "print(\"The dictionary after values removal : \" )\n",
        "print(res)"
      ],
      "metadata": {
        "colab": {
          "base_uri": "https://localhost:8080/"
        },
        "id": "sYgC5hzYe9__",
        "outputId": "fa4875e1-eb7e-4e97-dc36-fc4f0cd4f069"
      },
      "execution_count": 55,
      "outputs": [
        {
          "output_type": "stream",
          "name": "stdout",
          "text": [
            "The original dictionary is : \n",
            "{5: 10, 4: 10, 6: 20}\n",
            "The dictionary after values removal : \n",
            "{5: 10, 6: 20}\n"
          ]
        }
      ]
    },
    {
      "cell_type": "code",
      "source": [
        "#28. Write a Python script to check whether a given key already exists in a dictionary\n",
        "d = {1: 10, 2: 20, 3: 30, 4: 40, 5: 50, 6: 60}\n",
        "def is_key_present(x):\n",
        "  if x in d:\n",
        "      print('Key is present in the dictionary')\n",
        "  else:\n",
        "      print('Key is not present in the dictionary')\n",
        "is_key_present(5)"
      ],
      "metadata": {
        "colab": {
          "base_uri": "https://localhost:8080/"
        },
        "id": "C-GX8D84e_-P",
        "outputId": "8624cea7-353b-4e80-ea93-3776e2bff2a2"
      },
      "execution_count": 56,
      "outputs": [
        {
          "output_type": "stream",
          "name": "stdout",
          "text": [
            "Key is present in the dictionary\n"
          ]
        }
      ]
    },
    {
      "cell_type": "code",
      "source": [
        "#29. Write a Python program to sum all the items in a dictionary\n",
        "def returnSum(myDict):     \n",
        "    list = []\n",
        "    for i in myDict:\n",
        "        list.append(myDict[i])\n",
        "    final = sum(list)     \n",
        "    return final\n",
        "dict = {'a': 10, 'b':20, 'c':30}\n",
        "print(\"Sum :\", returnSum(dict))"
      ],
      "metadata": {
        "colab": {
          "base_uri": "https://localhost:8080/"
        },
        "id": "67XzW8thfB6a",
        "outputId": "a6950d49-2395-463f-cac2-675a0c39941a"
      },
      "execution_count": 57,
      "outputs": [
        {
          "output_type": "stream",
          "name": "stdout",
          "text": [
            "Sum : 60\n"
          ]
        }
      ]
    },
    {
      "cell_type": "code",
      "source": [
        "#30. Write a Python program to multiply all the items in a dictionary\n",
        "d = {'a': 2,'b': 3,'c': 6,}\n",
        "answer = 1\n",
        "for i in d:\n",
        "    answer = answer*d[i]\n",
        "print(answer)"
      ],
      "metadata": {
        "colab": {
          "base_uri": "https://localhost:8080/"
        },
        "id": "nRnnF44PfD9_",
        "outputId": "b3ecb2da-4077-4e93-cb09-6aaddf6acbbf"
      },
      "execution_count": 58,
      "outputs": [
        {
          "output_type": "stream",
          "name": "stdout",
          "text": [
            "36\n"
          ]
        }
      ]
    },
    {
      "cell_type": "code",
      "source": [
        "#31. Write a Python program to remove a key from a dictionary\n",
        "myDict = {'a':1,'b':2,'c':3,'d':4}\n",
        "print(myDict)\n",
        "if 'a' in myDict: \n",
        "    del myDict['a']\n",
        "print(myDict)"
      ],
      "metadata": {
        "colab": {
          "base_uri": "https://localhost:8080/"
        },
        "id": "N_oNkcPefGGH",
        "outputId": "ada89616-0577-43ab-f92c-ef944f01921d"
      },
      "execution_count": 59,
      "outputs": [
        {
          "output_type": "stream",
          "name": "stdout",
          "text": [
            "{'a': 1, 'b': 2, 'c': 3, 'd': 4}\n",
            "{'b': 2, 'c': 3, 'd': 4}\n"
          ]
        }
      ]
    }
  ]
}