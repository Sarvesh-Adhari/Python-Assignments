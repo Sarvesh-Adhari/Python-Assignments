{
  "nbformat": 4,
  "nbformat_minor": 0,
  "metadata": {
    "colab": {
      "name": "Python_Assignment5.ipynb",
      "provenance": []
    },
    "kernelspec": {
      "name": "python3",
      "display_name": "Python 3"
    },
    "language_info": {
      "name": "python"
    }
  },
  "cells": [
    {
      "cell_type": "markdown",
      "source": [
        "#**Set A**"
      ],
      "metadata": {
        "id": "Ev_UzJFeiUsb"
      }
    },
    {
      "cell_type": "code",
      "execution_count": 1,
      "metadata": {
        "colab": {
          "base_uri": "https://localhost:8080/"
        },
        "id": "g5bq8vK6h7k9",
        "outputId": "d04a109c-a84d-4adb-a42f-e3145e7e7a19"
      },
      "outputs": [
        {
          "output_type": "stream",
          "name": "stdout",
          "text": [
            "Zero Division Error\n",
            "Overflow Error\n"
          ]
        }
      ],
      "source": [
        "#1. Write a Python program to demonstrate the zero division error and overflow error\n",
        "import math\n",
        "data = 50\n",
        "try:\n",
        "    data = data / 0  # data = data / 5\n",
        "except ZeroDivisionError:\n",
        "    print(\"Zero Division Error\")\n",
        "else:\n",
        "    print(\"Division successful :\", data) #Division successful : 10\n",
        "try:\n",
        "    a = math.exp(1000) #math.exp(2)\n",
        "    print(a) #7.38905609893065\n",
        "   \n",
        "except OverflowError:\n",
        "    print(\"Overflow Error\")"
      ]
    },
    {
      "cell_type": "code",
      "source": [
        "#2. Write a Python program to find sequences of lowercase letters joined with a underscore\n",
        "import re\n",
        "def match(text):\n",
        "        pattern = '[a-z]+_[a-z]+$'\n",
        "        if re.search(pattern, text):\n",
        "                return('Yes')\n",
        "        else:\n",
        "                return('No')\n",
        "print(match(input(\"Enter Text :\")))"
      ],
      "metadata": {
        "colab": {
          "base_uri": "https://localhost:8080/"
        },
        "id": "BA3Q6J6Jietx",
        "outputId": "ce9512c7-4899-4039-bb8e-32480c60de79"
      },
      "execution_count": 2,
      "outputs": [
        {
          "output_type": "stream",
          "name": "stdout",
          "text": [
            "Enter Text :Hello\n",
            "No\n"
          ]
        }
      ]
    },
    {
      "cell_type": "code",
      "source": [
        "#3. Write a python program to Check if String Contain Only Defined Characters using Regex\n",
        "import re\n",
        "def check(str, pattern):\n",
        "\t\n",
        "\tif re.search(pattern, str):\n",
        "\t\tprint(\"Valid String\")\n",
        "\telse:\n",
        "\t\tprint(\"Invalid String\")\n",
        "\n",
        "pattern = re.compile('^[179]+$')\n",
        "check('179', pattern)\n",
        "check('157', pattern)"
      ],
      "metadata": {
        "colab": {
          "base_uri": "https://localhost:8080/"
        },
        "id": "GOzxW-w2igfI",
        "outputId": "0025ad15-58ef-40bf-eaef-e9361d783187"
      },
      "execution_count": 3,
      "outputs": [
        {
          "output_type": "stream",
          "name": "stdout",
          "text": [
            "Valid String\n",
            "Invalid String\n"
          ]
        }
      ]
    },
    {
      "cell_type": "markdown",
      "source": [
        "#**Set B**"
      ],
      "metadata": {
        "id": "mPfZVv1fi-ao"
      }
    },
    {
      "cell_type": "code",
      "source": [
        "#1. Write a Python program to match a string that contains only upper and lowercase letters,\n",
        "#numbers, and underscores.Write a Python program to raised the attribute error, if attribute\n",
        "#class object has no attribute with the name attribute.\n",
        "import re\n",
        "def text_match(text):\n",
        "        patterns = '^[a-zA-Z0-9_]*$'\n",
        "        if re.search(patterns,  text):\n",
        "                return 'Found a match!'\n",
        "        else:\n",
        "                return('Not matched!')\n",
        "\n",
        "print(text_match(\"The quick brown fox jumps over the lazy dog.\"))\n",
        "print(text_match(\"Python_is_1_Programming_language\"))"
      ],
      "metadata": {
        "colab": {
          "base_uri": "https://localhost:8080/"
        },
        "id": "RvvcwRTfi9cZ",
        "outputId": "c4b0e415-a8a8-4734-8711-67a5ae7d2909"
      },
      "execution_count": 4,
      "outputs": [
        {
          "output_type": "stream",
          "name": "stdout",
          "text": [
            "Not matched!\n",
            "Found a match!\n"
          ]
        }
      ]
    },
    {
      "cell_type": "code",
      "source": [
        "#2. Write a python Program to Remove duplicate words from Sentence\n",
        "string = \"Python is good Python is for beginners beginners\"\n",
        " \n",
        "print(' '.join(dict.fromkeys(string.split())))"
      ],
      "metadata": {
        "colab": {
          "base_uri": "https://localhost:8080/"
        },
        "id": "kV1ZILcfjCap",
        "outputId": "60c842a9-322a-41ec-a42c-582f658a5046"
      },
      "execution_count": 5,
      "outputs": [
        {
          "output_type": "stream",
          "name": "stdout",
          "text": [
            "Python is good for beginners\n"
          ]
        }
      ]
    },
    {
      "cell_type": "code",
      "source": [
        "#3. Write a python to| Remove all characters except letters and numbers\n",
        "import re \n",
        "my_string = \"python123:, .@! abc\" \n",
        "print (\"The string is : \") \n",
        "print(my_string) \n",
        "result = re.sub('[\\W_]+', '', my_string) \n",
        "print (\"The String after Removal is :\") \n",
        "print(result)"
      ],
      "metadata": {
        "colab": {
          "base_uri": "https://localhost:8080/"
        },
        "id": "jNIcTY9OjFep",
        "outputId": "dba0ed5e-10cd-4e0c-b2a0-480c64d859a5"
      },
      "execution_count": 6,
      "outputs": [
        {
          "output_type": "stream",
          "name": "stdout",
          "text": [
            "The string is : \n",
            "python123:, .@! abc\n",
            "The String after Removal is :\n",
            "python123abc\n"
          ]
        }
      ]
    },
    {
      "cell_type": "markdown",
      "source": [
        "#**Programs For Practice**"
      ],
      "metadata": {
        "id": "IqQYvVSrjIoA"
      }
    },
    {
      "cell_type": "code",
      "source": [
        "#1. Write a python program to Count Uppercase, Lowercase, special character and numeric values using Regex\n",
        "def Count(strr):\n",
        "    upper, lower, number, special = 0, 0, 0, 0\n",
        "    for i in range(len(strr)):\n",
        "        if strr[i].isupper():\n",
        "            upper += 1\n",
        "        elif strr[i].islower():\n",
        "            lower += 1\n",
        "        elif strr[i].isdigit():\n",
        "            number += 1\n",
        "        else:\n",
        "            special += 1\n",
        "    print('Upper case letters:', upper)\n",
        "    print('Lower case letters:', lower)\n",
        "    print('Number:', number)\n",
        "    print('Special characters:', special)\n",
        "strr = \"@@helloTybcs1904WELcome###\"\n",
        "Count(strr)"
      ],
      "metadata": {
        "colab": {
          "base_uri": "https://localhost:8080/"
        },
        "id": "H4S7WZ3DjHwp",
        "outputId": "646ae29b-3963-4f99-d2b0-48300320ff90"
      },
      "execution_count": 7,
      "outputs": [
        {
          "output_type": "stream",
          "name": "stdout",
          "text": [
            "Upper case letters: 4\n",
            "Lower case letters: 13\n",
            "Number: 4\n",
            "Special characters: 5\n"
          ]
        }
      ]
    },
    {
      "cell_type": "code",
      "source": [
        "#2. Write a python program to find the most occurring number in a string using Regex\n",
        "import re\n",
        "from collections import Counter\n",
        "def most_occr_element(word):\n",
        "    arr = re.findall(r'[0-9]+', word)\n",
        "    maxm = 0\n",
        "    max_elem = 0\n",
        "    c = Counter(arr)\n",
        "    for x in list(c.keys()):\n",
        "        if c[x]>= maxm:\n",
        "            maxm = c[x]\n",
        "            max_elem = int(x)\n",
        "    return max_elem\n",
        "if __name__ == \"__main__\":\n",
        "    word = 'abc58abc52abd12abcdefg12ab58ac58'\n",
        "    print(most_occr_element(word))"
      ],
      "metadata": {
        "colab": {
          "base_uri": "https://localhost:8080/"
        },
        "id": "KzwUlRKDjTL5",
        "outputId": "747e6947-68eb-4634-9120-4964c7487bf9"
      },
      "execution_count": 8,
      "outputs": [
        {
          "output_type": "stream",
          "name": "stdout",
          "text": [
            "58\n"
          ]
        }
      ]
    },
    {
      "cell_type": "code",
      "source": [
        "#3. Write a python Regex to extract maximum numeric value from a string\n",
        "def extractMaximum(ss):\n",
        "    num, res = 0, 0\n",
        "    for i in range(len(ss)):\n",
        "        if ss[i] >= \"0\" and ss[i] <= \"9\":\n",
        "            num = num * 10 + int(int(ss[i]) - 0)\n",
        "        else:\n",
        "            res = max(res, num)\n",
        "            num = 0\n",
        "    return max(res, num)\n",
        "ss = \"100klh564abc365bg100005abcd\"\n",
        "print(extractMaximum(ss))"
      ],
      "metadata": {
        "colab": {
          "base_uri": "https://localhost:8080/"
        },
        "id": "FxBdh4R9jYQC",
        "outputId": "1cfe313b-8765-4781-807b-f92505fb1e27"
      },
      "execution_count": 9,
      "outputs": [
        {
          "output_type": "stream",
          "name": "stdout",
          "text": [
            "100005\n"
          ]
        }
      ]
    },
    {
      "cell_type": "code",
      "source": [
        "#4. Write a python program to put spaces between words starting with capital letters using Regex\n",
        "import re\n",
        "def capital_words_spaces(str1):\n",
        "  return re.sub(r\"(\\w)([A-Z])\", r\"\\1 \\2\", str1)\n",
        "print(capital_words_spaces(\"Python\"))\n",
        "print(capital_words_spaces(\"PythonPractical\"))\n",
        "print(capital_words_spaces(\"PythonTybcsPracticeSolution\"))"
      ],
      "metadata": {
        "colab": {
          "base_uri": "https://localhost:8080/"
        },
        "id": "ELZj_cARjauR",
        "outputId": "c97b71ea-ddba-4403-ead9-1fa839ad82ca"
      },
      "execution_count": 10,
      "outputs": [
        {
          "output_type": "stream",
          "name": "stdout",
          "text": [
            "Python\n",
            "Python Practical\n",
            "Python Tybcs Practice Solution\n"
          ]
        }
      ]
    },
    {
      "cell_type": "code",
      "source": [
        "#5. Write a python to Check whether a string starts and ends with the same character or not\n",
        "import re\n",
        "regex = r'^[a-z]$|^([a-z]).*\\1$'\n",
        "def check(string):\n",
        "    if(re.search(regex, string)):\n",
        "        print(\"Valid\")\n",
        "    else:\n",
        "        print(\"Invalid\")\n",
        "if __name__ == '__main__' :\n",
        "    sample1 = \"abca\"\n",
        "    sample2 = \"pythonp\"\n",
        "    sample3 = \"abc\"\n",
        "\n",
        "    check(sample1)\n",
        "    check(sample2)\n",
        "    check(sample3)"
      ],
      "metadata": {
        "colab": {
          "base_uri": "https://localhost:8080/"
        },
        "id": "YeniRe64jc5g",
        "outputId": "a03ee6f4-3199-4ef6-c6c5-3e718d1e2d3b"
      },
      "execution_count": 11,
      "outputs": [
        {
          "output_type": "stream",
          "name": "stdout",
          "text": [
            "Valid\n",
            "Valid\n",
            "Invalid\n"
          ]
        }
      ]
    },
    {
      "cell_type": "code",
      "source": [
        "#6. Write a python regex to find sequences of one upper case letter followed by lower case letters\n",
        "import re\n",
        "def match(text):\n",
        "        pattern = '[A-Z]+[a-z]+$'\n",
        "        if re.search(pattern, text):\n",
        "                return('Yes')\n",
        "        else:\n",
        "                return('No')\n",
        "print(match(\"Python\"))\n",
        "print(match(\"Pythonpractical\"))\n",
        "print(match(\"python\"))"
      ],
      "metadata": {
        "colab": {
          "base_uri": "https://localhost:8080/"
        },
        "id": "6VFuncr6jesg",
        "outputId": "2bce4544-acb2-439e-eef4-8afd8ad443d2"
      },
      "execution_count": 12,
      "outputs": [
        {
          "output_type": "stream",
          "name": "stdout",
          "text": [
            "Yes\n",
            "Yes\n",
            "No\n"
          ]
        }
      ]
    },
    {
      "cell_type": "code",
      "source": [
        "#7. Write a python Regex program to accept string ending with alphanumeric character\n",
        "import re\n",
        "regex = '[a-zA-z0-9]$'\n",
        "def check(string):\n",
        "    if(re.search(regex, string)):\n",
        "        print(\"Accept\")\n",
        "    else:\n",
        "        print(\"Discard\")\n",
        "if __name__ == '__main__' :\n",
        "    string = \"pranjal@\"\n",
        "    check(string)\n",
        "    string = \"pranjal326\"\n",
        "    check(string)\n",
        "    string = \"pranjal.\"\n",
        "    check(string)\n",
        "    string = \"pranjalDEO\"\n",
        "    check(string)"
      ],
      "metadata": {
        "colab": {
          "base_uri": "https://localhost:8080/"
        },
        "id": "53w1AJzsjgvx",
        "outputId": "3bbdeb96-7ac4-41f3-986b-9de4a96749df"
      },
      "execution_count": 13,
      "outputs": [
        {
          "output_type": "stream",
          "name": "stdout",
          "text": [
            "Discard\n",
            "Accept\n",
            "Discard\n",
            "Accept\n"
          ]
        }
      ]
    },
    {
      "cell_type": "code",
      "source": [
        "#8. Write a python Regex program to accept string starting with vowel\n",
        "# initializing list\n",
        "test_list = [\"red\",\"is\",\"dark\",\"color\",\"and\",\"in\",\"signal\",\"it\",\"stops\",\"vechicals\"]\n",
        "print(\"The original list is : \" )\n",
        "print(test_list)\n",
        "res = []\n",
        "vow = \"aeiou\"\n",
        "for sub in test_list:\n",
        "    flag = False\n",
        "    for ele in vow:\n",
        "        if sub.startswith(ele):\n",
        "            flag = True\n",
        "            break\n",
        "    if flag:\n",
        "        res.append(sub)\n",
        "print(\"The extracted words : \" )\n",
        "print(res)"
      ],
      "metadata": {
        "colab": {
          "base_uri": "https://localhost:8080/"
        },
        "id": "UQBR8ss7jia4",
        "outputId": "f3e0b1c5-433e-4797-a0e9-91518e3827bd"
      },
      "execution_count": 14,
      "outputs": [
        {
          "output_type": "stream",
          "name": "stdout",
          "text": [
            "The original list is : \n",
            "['red', 'is', 'dark', 'color', 'and', 'in', 'signal', 'it', 'stops', 'vechicals']\n",
            "The extracted words : \n",
            "['is', 'and', 'in', 'it']\n"
          ]
        }
      ]
    },
    {
      "cell_type": "code",
      "source": [
        "#9. Write a python Program to check if a string starts with a substring using regex\n",
        "import re\n",
        "def check_string(my_string, sub_string) :\n",
        "   if (sub_string in my_string):\n",
        "      concat_string = \"^\" + sub_string\n",
        "      result = re.search(concat_string, my_string)\n",
        "      if result :\n",
        "         print(\"The string starts with the given substring\")\n",
        "      else :\n",
        "         print(\"The string doesnot start with the given substring\")\n",
        "   else :\n",
        "      print(\"It is not a substring\")\n",
        "my_string = \"Python coding is fun to learn\"\n",
        "sub_string = \"Python\"\n",
        "print(\"The string is :\")\n",
        "print(my_string)\n",
        "print(\"The sub-string is :\")\n",
        "print(sub_string)\n",
        "check_string(my_string, sub_string)"
      ],
      "metadata": {
        "colab": {
          "base_uri": "https://localhost:8080/"
        },
        "id": "XCycYHl5jkS4",
        "outputId": "884f07b5-4840-40f2-fe1b-dfa1c601a8be"
      },
      "execution_count": 15,
      "outputs": [
        {
          "output_type": "stream",
          "name": "stdout",
          "text": [
            "The string is :\n",
            "Python coding is fun to learn\n",
            "The sub-string is :\n",
            "Python\n",
            "The string starts with the given substring\n"
          ]
        }
      ]
    },
    {
      "cell_type": "code",
      "source": [
        "#10. Write a python Program to Check if an URL is valid or not using Regular Expression\n",
        "import re\n",
        "def isValidURL(str):\n",
        "    regex = (\"((http|https)://)(www.)?\" +\n",
        "            \"[a-zA-Z0-9@:%._\\\\+~#?&//=]\" +\n",
        "            \"{2,256}\\\\.[a-z]\" +\n",
        "            \"{2,6}\\\\b([-a-zA-Z0-9@:%\" +\n",
        "            \"._\\\\+~?&//=]*)\")\n",
        "    p = re.compile(regex)\n",
        "    if (str == None):\n",
        "        return False\n",
        "    if(re.search(p, str)):\n",
        "        return True\n",
        "    else:\n",
        "        return False\n",
        "url = \"@htts://www.pranjaldeo@.org#\"\n",
        "if(isValidURL(url) == True):\n",
        "    print(\"Yes\")\n",
        "else:\n",
        "    print(\"No\")"
      ],
      "metadata": {
        "colab": {
          "base_uri": "https://localhost:8080/"
        },
        "id": "RR7pVNQNjmKg",
        "outputId": "5b7c88ab-4044-4f7c-deba-8cf6e6819ebf"
      },
      "execution_count": 16,
      "outputs": [
        {
          "output_type": "stream",
          "name": "stdout",
          "text": [
            "No\n"
          ]
        }
      ]
    },
    {
      "cell_type": "code",
      "source": [
        "#11. Write a python Program to Parsing and Processing URL using Python – Regex\n",
        "import re\n",
        "s = 'https://www.google.com'\n",
        "obj1 = re.findall('(\\w+)://',s)\n",
        "print(obj1)\n",
        "obj2 = re.findall('://www.([\\w\\-\\.]+)',s)\n",
        "print(obj2)"
      ],
      "metadata": {
        "colab": {
          "base_uri": "https://localhost:8080/"
        },
        "id": "RGUuopm4jojY",
        "outputId": "b3e09401-b7b4-429b-c937-3ee024c84961"
      },
      "execution_count": 21,
      "outputs": [
        {
          "output_type": "stream",
          "name": "stdout",
          "text": [
            "['https']\n",
            "['google.com']\n"
          ]
        }
      ]
    },
    {
      "cell_type": "code",
      "source": [
        "#12. Write a python Program to validate an IP address using ReGex\n",
        "import re\n",
        "regex = \"^((25[0-5]|2[0-4][0-9]|1[0-9][0-9]|[1-9]?[0-9])\\.){3}(25[0-5]|2[0-4][0-9]|1[0-9][0-9]|[1-9]?[0-9])$\"\n",
        "def check(Ip):\n",
        "    if(re.search(regex, Ip)):\n",
        "        print(\"Valid Ip address\")\n",
        "    else:\n",
        "        print(\"Invalid Ip address\")\n",
        "if __name__ == '__main__' :\n",
        "    Ip = \"192.168.0.1\"\n",
        "    check(Ip)\n",
        "    Ip = \"8.8.8.8\"\n",
        "    check(Ip)\n",
        "    Ip = \"366.1.2.2\"\n",
        "    check(Ip)"
      ],
      "metadata": {
        "colab": {
          "base_uri": "https://localhost:8080/"
        },
        "id": "bWpCljeljqTw",
        "outputId": "8e292ff1-0d4d-43e9-9459-e6cf7f153c4f"
      },
      "execution_count": 22,
      "outputs": [
        {
          "output_type": "stream",
          "name": "stdout",
          "text": [
            "Valid Ip address\n",
            "Valid Ip address\n",
            "Invalid Ip address\n"
          ]
        }
      ]
    },
    {
      "cell_type": "code",
      "source": [
        "#13. Write a python Program to Check if email address valid or not\n",
        "import re\n",
        "def isValid(email):\n",
        " if(re.match(\"^[a-zA-Z0-9_+&*-]+(?:\\\\.[a-zA-Z0-9_+&*-]+)*@(?:[a-zA-Z0-9-]+\\\\.)+[a-zA-Z]{2,7}$\", email) != None):\n",
        "     return True\n",
        " return False\n",
        "if(isValid(\"hello#gmail.com\") == True):\n",
        " print(\"This is a valid email address\")\n",
        "else:\n",
        " print(\"This is not a valid email address\")"
      ],
      "metadata": {
        "colab": {
          "base_uri": "https://localhost:8080/"
        },
        "id": "L3UETkLaj05J",
        "outputId": "9c728115-d331-4954-c666-63bae42d387b"
      },
      "execution_count": 23,
      "outputs": [
        {
          "output_type": "stream",
          "name": "stdout",
          "text": [
            "This is not a valid email address\n"
          ]
        }
      ]
    },
    {
      "cell_type": "code",
      "source": [
        "#14. Write a python program to find files having a particular extension using RegEx\n",
        "import re\n",
        "filenames = [\"gfg.html\", \"hello.xml\",\n",
        "            \"computer.txt\", \"welcome.jpg\"]\n",
        "for file in filenames:\n",
        "    match = re.search(\"\\.xml$\", file)\n",
        "    if match:\n",
        "        print(\"The file ending with .xml is:\",file)"
      ],
      "metadata": {
        "colab": {
          "base_uri": "https://localhost:8080/"
        },
        "id": "Xd-PQNsVj6wk",
        "outputId": "31bc375e-1437-4edd-9ca4-2bd7a17e9a18"
      },
      "execution_count": 24,
      "outputs": [
        {
          "output_type": "stream",
          "name": "stdout",
          "text": [
            "The file ending with .xml is: hello.xml\n"
          ]
        }
      ]
    },
    {
      "cell_type": "code",
      "source": [
        "#15. Write a python program to extract IP address from file\n",
        "import re\n",
        "with open('sample.txt') as sm:\n",
        "    fstring = sm.readlines()\n",
        "pattern = re.compile(r'(\\d{1,3}\\.\\d{1,3}\\.\\d{1,3}\\.\\d{1,3})')\n",
        "lst=[]\n",
        "for line in fstring:\n",
        "    lst.append(pattern.search(line)[0])\n",
        "print(lst)"
      ],
      "metadata": {
        "colab": {
          "base_uri": "https://localhost:8080/"
        },
        "id": "Omg4TXBXj9b4",
        "outputId": "4b52cef9-2268-467e-c2e0-3de56e1d8bc4"
      },
      "execution_count": 29,
      "outputs": [
        {
          "output_type": "stream",
          "name": "stdout",
          "text": [
            "['192.168.92.0']\n"
          ]
        }
      ]
    },
    {
      "cell_type": "code",
      "source": [
        "#16. Write a python program to check the validity of a Password\n",
        "import re\n",
        "password = \"Sarvesh@09\"\n",
        "flag = 0\n",
        "while True:\n",
        "    if (len(password)<8):\n",
        "        flag = -1\n",
        "        break\n",
        "    elif not re.search(\"[a-z]\", password):\n",
        "        flag = -1\n",
        "        break\n",
        "    elif not re.search(\"[A-Z]\", password):\n",
        "        flag = -1\n",
        "        break\n",
        "    elif not re.search(\"[0-9]\", password):\n",
        "        flag = -1\n",
        "        break\n",
        "    elif not re.search(\"[_@$]\", password):\n",
        "        flag = -1\n",
        "        break\n",
        "    elif re.search(\"\\s\", password):\n",
        "        flag = -1\n",
        "        break\n",
        "    else:\n",
        "        flag = 0\n",
        "        print(\"Valid Password\")\n",
        "        break\n",
        "if flag ==-1:\n",
        "    print(\"Not a Valid Password\")"
      ],
      "metadata": {
        "colab": {
          "base_uri": "https://localhost:8080/"
        },
        "id": "-1yCIjdtkpsx",
        "outputId": "c4e57ba0-7378-40b3-d642-533bb33fd269"
      },
      "execution_count": 32,
      "outputs": [
        {
          "output_type": "stream",
          "name": "stdout",
          "text": [
            "Valid Password\n"
          ]
        }
      ]
    }
  ]
}