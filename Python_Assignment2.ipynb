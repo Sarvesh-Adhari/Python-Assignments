{
  "nbformat": 4,
  "nbformat_minor": 0,
  "metadata": {
    "colab": {
      "name": "Python Assignment2.ipynb",
      "provenance": []
    },
    "kernelspec": {
      "name": "python3",
      "display_name": "Python 3"
    },
    "language_info": {
      "name": "python"
    }
  },
  "cells": [
    {
      "cell_type": "markdown",
      "source": [
        "#Set A(Strings)"
      ],
      "metadata": {
        "id": "O4e6872UYphz"
      }
    },
    {
      "cell_type": "code",
      "execution_count": 1,
      "metadata": {
        "colab": {
          "base_uri": "https://localhost:8080/"
        },
        "id": "n0ACsSU_X_yJ",
        "outputId": "d5201372-ee89-41c2-9ca9-977b6e9e4c4b"
      },
      "outputs": [
        {
          "output_type": "stream",
          "name": "stdout",
          "text": [
            "Enter any stringSarvesh\n",
            "given string is Not Symmetrical\n",
            "given string is Not Palindrome\n"
          ]
        }
      ],
      "source": [
        "#1.Write a python program to check whether the string is Symmetrical or Palindrome\n",
        "def symmetrical(str1,str2):\n",
        " if(str1==str2):\n",
        "     print(\"given string is Symmetrical\")\n",
        " else:\n",
        "     print(\"given string is Not Symmetrical\")\n",
        "def palindrome(str1,str2):\n",
        " if(str1==str2[::-1]):\n",
        "   print(\"given string is Palindrome\")\n",
        " else:\n",
        "   print(\"given string is Not Palindrome\")\n",
        "\n",
        "str=input(\"Enter any string\")\n",
        "size=len(str)\n",
        "mid=size//2\n",
        "if(size%2==0):\n",
        "    str1=str[:mid]\n",
        "    str2=str[mid:]\n",
        "else:\n",
        "    str1=str[:mid]\n",
        "    str2=str[mid+1:]\n",
        "symmetrical(str1,str2)\n",
        "palindrome(str1,str2)"
      ]
    },
    {
      "cell_type": "code",
      "source": [
        "#2.Write a python program to Reverse words in a given String\n",
        "string = \"I am a python programmer\"\n",
        "words = string.split()\n",
        "words = list(reversed(words))\n",
        "print(\" \".join(words))"
      ],
      "metadata": {
        "colab": {
          "base_uri": "https://localhost:8080/"
        },
        "id": "wxYdFXAwYhsg",
        "outputId": "946e1b15-9184-4a47-996d-7a224d0d4e76"
      },
      "execution_count": 2,
      "outputs": [
        {
          "output_type": "stream",
          "name": "stdout",
          "text": [
            "programmer python a am I\n"
          ]
        }
      ]
    },
    {
      "cell_type": "code",
      "source": [
        "#3.Write a python program to remove i’th character from string in different ways\n",
        "def remove_char(s, i):\n",
        "    a = s[ : i]\n",
        "    b = s[i + 1: ]\n",
        "\n",
        "    return a+b\n",
        "\n",
        "string = \"Pythonisgood\"\n",
        "# Remove ith index element\n",
        "i = 10\n",
        "print(remove_char(string,i-1))"
      ],
      "metadata": {
        "colab": {
          "base_uri": "https://localhost:8080/"
        },
        "id": "JRqilEzLYmQe",
        "outputId": "9fdfb2b1-734c-43fd-e84c-e1a02ab8087f"
      },
      "execution_count": 3,
      "outputs": [
        {
          "output_type": "stream",
          "name": "stdout",
          "text": [
            "Pythonisgod\n"
          ]
        }
      ]
    },
    {
      "cell_type": "markdown",
      "source": [
        "#Set A(Functions)"
      ],
      "metadata": {
        "id": "0n-tEPfIYv1a"
      }
    },
    {
      "cell_type": "code",
      "source": [
        "n1=int(input(\"Enter first number: \"));\n",
        "n2=int(input(\"Enter second number: \"));\n",
        "n3=int(input(\"Enter Third number: \"));\n",
        "def max():\n",
        "    if(n1>=n2) and (n1>=n3):\n",
        "        l=n1\n",
        "    elif(n2>=n1) and (n2>=n3):\n",
        "         l=n2\n",
        "    else:\n",
        "         l=n3\n",
        "    print(\"Largest number among the three is\",l)\n",
        "max()"
      ],
      "metadata": {
        "colab": {
          "base_uri": "https://localhost:8080/"
        },
        "id": "Ub2g9BbGYxR7",
        "outputId": "4e3242e1-0849-4619-a758-8b0fb28ae9cd"
      },
      "execution_count": 4,
      "outputs": [
        {
          "output_type": "stream",
          "name": "stdout",
          "text": [
            "Enter first number: 23\n",
            "Enter second number: 45\n",
            "Enter Third number: 56\n",
            "Largest number among the three is 56\n"
          ]
        }
      ]
    },
    {
      "cell_type": "code",
      "source": [
        "#2.Write a Python function to sum all the numbers in a list.\n",
        "def sum(numbers):\n",
        "    total = 0\n",
        "    for x in numbers:\n",
        "        total += x\n",
        "    return total\n",
        "print(sum((2, 2, 232, 0, 7)))"
      ],
      "metadata": {
        "colab": {
          "base_uri": "https://localhost:8080/"
        },
        "id": "SlVUhAcJY12i",
        "outputId": "da5264d0-4728-4129-90df-100947da6ffe"
      },
      "execution_count": 5,
      "outputs": [
        {
          "output_type": "stream",
          "name": "stdout",
          "text": [
            "243\n"
          ]
        }
      ]
    },
    {
      "cell_type": "code",
      "source": [
        "#3.Write a Python program to reverse a string.\n",
        "def reverse(str):   \n",
        "    str = str[::-1]   \n",
        "    return str   \n",
        "    \n",
        "s = \"Hello I am sarvesh\"  \n",
        "print (\"The original string  is : \",s)   \n",
        "print (\"The reversed string using extended slice operator  is : \",reverse(s)) "
      ],
      "metadata": {
        "colab": {
          "base_uri": "https://localhost:8080/"
        },
        "id": "DTUnTiSBY6sF",
        "outputId": "216f5fe2-7ee7-4982-8659-f674316cfb60"
      },
      "execution_count": 6,
      "outputs": [
        {
          "output_type": "stream",
          "name": "stdout",
          "text": [
            "The original string  is :  Hello I am sarvesh\n",
            "The reversed string using extended slice operator  is :  hsevras ma I olleH\n"
          ]
        }
      ]
    },
    {
      "cell_type": "markdown",
      "source": [
        "#Set B(Strings)"
      ],
      "metadata": {
        "id": "ldLGLzHDY-Ms"
      }
    },
    {
      "cell_type": "code",
      "source": [
        "#1.Write a python program to print even length words in a string\n",
        "def printWords(s):\n",
        "    print(s)\n",
        "    s = s.split(' ') \n",
        "    for word in s: \n",
        "        if len(word)%2==0:\n",
        "            print(word) \n",
        "            \n",
        "s1 = \"i am sarvesh\" \n",
        "printWords(s1) "
      ],
      "metadata": {
        "colab": {
          "base_uri": "https://localhost:8080/"
        },
        "id": "t0VLSKccY_g0",
        "outputId": "8c8ddc0a-a624-4308-8117-15b445270a51"
      },
      "execution_count": 7,
      "outputs": [
        {
          "output_type": "stream",
          "name": "stdout",
          "text": [
            "i am sarvesh\n",
            "am\n"
          ]
        }
      ]
    },
    {
      "cell_type": "code",
      "source": [
        "#2.Write a python program to accept the strings which contains all vowels\n",
        "def check(string):\n",
        "    string = string.replace(' ', '')\n",
        "    string = string.lower()\n",
        "    vowel = [string.count('a'), string.count('e'), string.count(\n",
        "        'i'), string.count('o'), string.count('u')]\n",
        "\n",
        "    if vowel.count(0) > 0:\n",
        "        return('not accepted')\n",
        "    else:\n",
        "        return('accepted')\n",
        "\n",
        "if __name__ == \"__main__\":\n",
        "\n",
        "    string = input(\"Enter string:\")\n",
        "    print(check(string))"
      ],
      "metadata": {
        "colab": {
          "base_uri": "https://localhost:8080/"
        },
        "id": "O1Yd7R8pZEgE",
        "outputId": "540e4c18-721c-4910-a3a4-d3033af6078c"
      },
      "execution_count": 9,
      "outputs": [
        {
          "output_type": "stream",
          "name": "stdout",
          "text": [
            "Enter string:sarvesh\n",
            "not accepted\n"
          ]
        }
      ]
    },
    {
      "cell_type": "code",
      "source": [
        "#3.Write a python program to Count the Number of matching characters in a pair of string\n",
        "import re\n",
        "ip1 = input(\"Enter string1:\")\n",
        "ip2 = input(\"Enter string2:\")\n",
        "  \n",
        "c = 0\n",
        "for i in ip1:\n",
        "    if re.search(i,ip2):\n",
        "        c=c+1\n",
        "print(\"No. of matching characters are \", c)"
      ],
      "metadata": {
        "colab": {
          "base_uri": "https://localhost:8080/"
        },
        "id": "P4AIjbF8ZJ4Y",
        "outputId": "cfcb5346-7661-49a2-c6e6-6dc517400e2f"
      },
      "execution_count": 10,
      "outputs": [
        {
          "output_type": "stream",
          "name": "stdout",
          "text": [
            "Enter string1:Python\n",
            "Enter string2:Data Science\n",
            "No. of matching characters are  2\n"
          ]
        }
      ]
    },
    {
      "cell_type": "markdown",
      "source": [
        "#Set B(Functions)"
      ],
      "metadata": {
        "id": "-MR8wNnpZUJG"
      }
    },
    {
      "cell_type": "code",
      "source": [
        "#1. Write a Python function that takes a list and returns a new list with unique elements of the first list\n",
        "def f(lis):\n",
        "\n",
        "    a=set(lis)\n",
        "\n",
        "    print(sorted(a))\n",
        "\n",
        "f([1,1,1,32,33,4])"
      ],
      "metadata": {
        "colab": {
          "base_uri": "https://localhost:8080/"
        },
        "id": "vuQ9cvTHZSag",
        "outputId": "590933f3-12b1-4bce-bd37-b9fccf74cd2b"
      },
      "execution_count": 11,
      "outputs": [
        {
          "output_type": "stream",
          "name": "stdout",
          "text": [
            "[1, 4, 32, 33]\n"
          ]
        }
      ]
    },
    {
      "cell_type": "code",
      "source": [
        "#2.Write a Python function that takes a number as a parameter and check the number is prime or not\n",
        "def PrimeChecker(a):  \n",
        "    if a > 1:  \n",
        "        for j in range(2, int(a/2) + 1):  \n",
        "            if (a % j) == 0:  \n",
        "                print(a, \"is not a prime number\")  \n",
        "                break  \n",
        "        else:  \n",
        "            print(a, \"is a prime number\")  \n",
        "    else:  \n",
        "        print(a, \"is not a prime number\")  \n",
        "a = int(input(\"Enter an input number:\"))  \n",
        "PrimeChecker(a) "
      ],
      "metadata": {
        "colab": {
          "base_uri": "https://localhost:8080/"
        },
        "id": "iJEaE4BQZZXX",
        "outputId": "c811a381-b07a-45e5-ff7e-5f17a0a2b1ae"
      },
      "execution_count": 12,
      "outputs": [
        {
          "output_type": "stream",
          "name": "stdout",
          "text": [
            "Enter an input number:56\n",
            "56 is not a prime number\n"
          ]
        }
      ]
    },
    {
      "cell_type": "code",
      "source": [
        "#3.Write a Python function to check whether a number is perfect or not\n",
        "n = int(input(\"Enter any number: \"))\n",
        "sum1 = 0\n",
        "for i in range(1, n):\n",
        "    if(n % i == 0):\n",
        "        sum1 = sum1 + i\n",
        "if (sum1 == n):\n",
        "    print(\"The number is a Perfect number!\")\n",
        "else:\n",
        "    print(\"The number is not a Perfect number!\")"
      ],
      "metadata": {
        "colab": {
          "base_uri": "https://localhost:8080/"
        },
        "id": "-YCu-zPAZc54",
        "outputId": "c0d9b0d3-05c8-4831-bb8e-ca910bb535c1"
      },
      "execution_count": 13,
      "outputs": [
        {
          "output_type": "stream",
          "name": "stdout",
          "text": [
            "Enter any number: 45\n",
            "The number is not a Perfect number!\n"
          ]
        }
      ]
    },
    {
      "cell_type": "markdown",
      "source": [
        "#Programs For Practice"
      ],
      "metadata": {
        "id": "smMYY4RmZiP3"
      }
    },
    {
      "cell_type": "code",
      "source": [
        "#1. Write a Python program to append items from a specified list.\n",
        "inputt = [1, 2, 3, 4, 5]\n",
        "key = 5\n",
        "  \n",
        "result = []\n",
        "for ele in inputt:\n",
        "    result.append(ele)\n",
        "    result.append(key)\n",
        "  \n",
        "print(result)"
      ],
      "metadata": {
        "colab": {
          "base_uri": "https://localhost:8080/"
        },
        "id": "lv28P5mKZgYv",
        "outputId": "2284a990-9436-4982-a3ca-9ed407ae63cd"
      },
      "execution_count": 14,
      "outputs": [
        {
          "output_type": "stream",
          "name": "stdout",
          "text": [
            "[1, 5, 2, 5, 3, 5, 4, 5, 5, 5]\n"
          ]
        }
      ]
    },
    {
      "cell_type": "code",
      "source": [
        "#2.Write a python program Check if a Substring is Present in a Given String\n",
        "def check(stringg, sub_str):\n",
        "    if (stringg.find(sub_str) == -1):\n",
        "        print(\"NO\")\n",
        "    else:\n",
        "        print(\"YES\")\n",
        "            \n",
        "# driver code\n",
        "stringg = \"Hello Tybcs welcome\"\n",
        "sub_str =\"Tybcs\"\n",
        "check(string, sub_str)"
      ],
      "metadata": {
        "colab": {
          "base_uri": "https://localhost:8080/"
        },
        "id": "bzT2g9qVZmtd",
        "outputId": "9d4f2357-6f6a-4c93-c0d1-fc70fc3fed3c"
      },
      "execution_count": 15,
      "outputs": [
        {
          "output_type": "stream",
          "name": "stdout",
          "text": [
            "NO\n"
          ]
        }
      ]
    },
    {
      "cell_type": "code",
      "source": [
        "#3.Write a python program Words Frequency in String Shorthands\n",
        "def freq(str):\n",
        "    str = str.split()         \n",
        "    str2 = []\n",
        "    for i in str:             \n",
        "        if i not in str2:\n",
        "            str2.append(i)               \n",
        "    for i in range(0, len(str2)):\n",
        "        print('Frequency of', str2[i], 'is :', str.count(str2[i]))      \n",
        "def main():\n",
        "    str ='apple mango apple orange orange apple guava mango mango'\n",
        "    freq(str)                    \n",
        "  \n",
        "if __name__==\"__main__\":\n",
        "    main()  "
      ],
      "metadata": {
        "colab": {
          "base_uri": "https://localhost:8080/"
        },
        "id": "Vyh8zcFtZvaO",
        "outputId": "5c41f7bd-5bd3-4eb4-b13b-666345f50ba0"
      },
      "execution_count": 16,
      "outputs": [
        {
          "output_type": "stream",
          "name": "stdout",
          "text": [
            "Frequency of apple is : 3\n",
            "Frequency of mango is : 3\n",
            "Frequency of orange is : 2\n",
            "Frequency of guava is : 1\n"
          ]
        }
      ]
    },
    {
      "cell_type": "code",
      "source": [
        "#4.Write a python program Convert Snake case to Pascal case\n",
        "inp1= input(\"Enter any string\")\n",
        "new1=inp1.replace('_',' ')\n",
        "print(inp1)\n",
        "print(new1)"
      ],
      "metadata": {
        "colab": {
          "base_uri": "https://localhost:8080/"
        },
        "id": "t-oTmJgFZy2G",
        "outputId": "d66474c9-046c-4565-dc8b-c507127fd613"
      },
      "execution_count": 19,
      "outputs": [
        {
          "output_type": "stream",
          "name": "stdout",
          "text": [
            "Enter any stringSarvesh_Adhari\n",
            "Sarvesh_Adhari\n",
            "Sarvesh Adhari\n"
          ]
        }
      ]
    },
    {
      "cell_type": "code",
      "source": [
        "#5.Write a Python function to calculate the factorial of a number (a non-negative integer). The functionaccepts the number \n",
        "#as an argument\n",
        "def factorial(n):\n",
        "    return 1 if (n==1 or n==0) else n * factorial(n - 1);\n",
        "numb = int(input(\"Enter any number: \"))\n",
        "print(\"Factorial of\",numb,\"is\",\n",
        "factorial(numb))"
      ],
      "metadata": {
        "colab": {
          "base_uri": "https://localhost:8080/"
        },
        "id": "3Uq83JpLZ-Yw",
        "outputId": "d7e65654-3943-44c1-b170-1a3193f8e287"
      },
      "execution_count": 20,
      "outputs": [
        {
          "output_type": "stream",
          "name": "stdout",
          "text": [
            "Enter any number: 6\n",
            "Factorial of 6 is 720\n"
          ]
        }
      ]
    },
    {
      "cell_type": "code",
      "source": [
        "#6.Write a Python function to check whether a number is in a given\n",
        "start=(int(input(\"Enter any number1: \")))\n",
        "end=(int(input(\"Enter any number2: \")))\n",
        "is_between = (int(input(\"Enter any number: \")))in range(start,end)\n",
        "\n",
        "print(is_between)"
      ],
      "metadata": {
        "colab": {
          "base_uri": "https://localhost:8080/"
        },
        "id": "V0ZP1jcZaFzD",
        "outputId": "8110c78e-65b8-42cf-ad23-a917d77e89d1"
      },
      "execution_count": 21,
      "outputs": [
        {
          "output_type": "stream",
          "name": "stdout",
          "text": [
            "Enter any number1: 34\n",
            "Enter any number2: 56\n",
            "Enter any number: 34\n",
            "True\n"
          ]
        }
      ]
    },
    {
      "cell_type": "code",
      "source": [
        "#7.Write a Python function that accepts a string and calculate the number of upper case letters and lower case\n",
        "def string_test(s):\n",
        "    d={\"UPPER_CASE\":0, \"LOWER_CASE\":0}\n",
        "    for c in s:\n",
        "        if c.isupper():\n",
        "           d[\"UPPER_CASE\"]+=1\n",
        "        elif c.islower():\n",
        "           d[\"LOWER_CASE\"]+=1\n",
        "        else:\n",
        "           pass\n",
        "    print (\"Original String : \", s)\n",
        "    print (\"No. of Upper case characters : \", d[\"UPPER_CASE\"])\n",
        "    print (\"No. of Lower case Characters : \", d[\"LOWER_CASE\"])\n",
        "\n",
        "string_test(input(\"Enter any string:\"))"
      ],
      "metadata": {
        "colab": {
          "base_uri": "https://localhost:8080/"
        },
        "id": "zvZCyNGgaLHL",
        "outputId": "73f04bfe-8f0f-46d6-bc6f-1eb0e76bd959"
      },
      "execution_count": 22,
      "outputs": [
        {
          "output_type": "stream",
          "name": "stdout",
          "text": [
            "Enter any string:sarvesh\n",
            "Original String :  sarvesh\n",
            "No. of Upper case characters :  0\n",
            "No. of Lower case Characters :  7\n"
          ]
        }
      ]
    },
    {
      "cell_type": "code",
      "source": [
        "#8. Write a Python program to detect the number of local variables declared in a function.\n",
        "def scope():\n",
        "    a11 = 17\n",
        "    b11 = 9\n",
        "    c11= 2000\n",
        "    str11 = 'Python'\n",
        "\n",
        "print(\"Number of local varibales available:\",scope.__code__.co_nlocals)"
      ],
      "metadata": {
        "colab": {
          "base_uri": "https://localhost:8080/"
        },
        "id": "S6xIaXFzaQFq",
        "outputId": "dc440fd0-07fb-4a11-f461-99421191bca4"
      },
      "execution_count": 23,
      "outputs": [
        {
          "output_type": "stream",
          "name": "stdout",
          "text": [
            "Number of local varibales available: 4\n"
          ]
        }
      ]
    },
    {
      "cell_type": "code",
      "source": [
        "#9.Write a python program to Remove all duplicates from a given string in Python\n",
        "def removeDuplicate(str9, n):\n",
        "    s9 = set()\n",
        "    for i in str9:\n",
        "        s9.add(i)\n",
        "    st = \"\"\n",
        "    for i in s9:\n",
        "        st = st+i\n",
        "    return st\n",
        "str9 = (input(\"Enter any string:\"))\n",
        "print(str9)\n",
        "n = len(str9)\n",
        "print(removeDuplicate(list(str9), n))"
      ],
      "metadata": {
        "colab": {
          "base_uri": "https://localhost:8080/"
        },
        "id": "riosxgtfaX2a",
        "outputId": "2eb3f315-e806-46bd-bb30-23a27124c6f4"
      },
      "execution_count": 24,
      "outputs": [
        {
          "output_type": "stream",
          "name": "stdout",
          "text": [
            "Enter any string:Sarvesh\n",
            "Sarvesh\n",
            "vShsear\n"
          ]
        }
      ]
    },
    {
      "cell_type": "code",
      "source": [
        "#10.Write a Python function that checks whether a passed string is palindrome or\n",
        "def isPalindrome(s):\n",
        "    return string0 == string0[::-1]\n",
        "string0 = (input(\"Enter any string:\"))\n",
        "ans0 = isPalindrome(string)\n",
        "print(string)\n",
        "if ans0:\n",
        "    print(\"given string is palindrome\")\n",
        "else:\n",
        "    print(\"given string is not palindrome\")"
      ],
      "metadata": {
        "colab": {
          "base_uri": "https://localhost:8080/"
        },
        "id": "APXSyK6Panq-",
        "outputId": "ad4055ac-d0a0-4519-974d-a673319136d3"
      },
      "execution_count": 25,
      "outputs": [
        {
          "output_type": "stream",
          "name": "stdout",
          "text": [
            "Enter any string:Sarvesh\n",
            "sarvesh\n",
            "given string is not palindrome\n"
          ]
        }
      ]
    },
    {
      "cell_type": "code",
      "source": [
        "#11.Write a Python program that accepts a hyphen-separated sequence of words as input and prints the words in a\n",
        "#hyphen-separated sequence after sorting them alphabetically.\n",
        "str4=input(\"Enter any string:\")\n",
        "s4=str4.split('-')\n",
        "print(s4)\n",
        "s4.sort()\n",
        "print(s4)\n",
        "print('-'.join(s4))"
      ],
      "metadata": {
        "colab": {
          "base_uri": "https://localhost:8080/"
        },
        "id": "cMSRla8xavW9",
        "outputId": "23dcffe9-b612-4b68-e669-2edd756a1688"
      },
      "execution_count": 27,
      "outputs": [
        {
          "output_type": "stream",
          "name": "stdout",
          "text": [
            "Enter any string:Sarvesh-Sunil-Adhari\n",
            "['Sarvesh', 'Sunil', 'Adhari']\n",
            "['Adhari', 'Sarvesh', 'Sunil']\n",
            "Adhari-Sarvesh-Sunil\n"
          ]
        }
      ]
    }
  ]
}